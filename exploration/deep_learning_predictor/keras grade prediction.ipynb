{
 "cells": [
  {
   "cell_type": "code",
   "execution_count": 1,
   "metadata": {},
   "outputs": [
    {
     "name": "stderr",
     "output_type": "stream",
     "text": [
      "Using TensorFlow backend.\n"
     ]
    }
   ],
   "source": [
    "import pandas as pd\n",
    "\n",
    "from sklearn.model_selection import train_test_split\n",
    "from keras.layers import Dense\n",
    "from keras.models import Sequential\n",
    "from keras.callbacks import EarlyStopping\n",
    "\n",
    "early_stopping_monitor = EarlyStopping(patience=5)"
   ]
  },
  {
   "cell_type": "code",
   "execution_count": 2,
   "metadata": {},
   "outputs": [],
   "source": [
    "df = pd.read_csv(\"../data_processing/cleaned-data.csv\")"
   ]
  },
  {
   "cell_type": "code",
   "execution_count": 3,
   "metadata": {},
   "outputs": [],
   "source": [
    "predictors = df.drop(['G3', 'G1', 'G2', 'Mjob', 'Fjob', 'reason', 'guardian'], axis=1).values\n",
    "target = df.G3\n",
    "\n",
    "n_cols = predictors.shape[1]"
   ]
  },
  {
   "cell_type": "code",
   "execution_count": 4,
   "metadata": {},
   "outputs": [],
   "source": [
    "X_train, X_test, y_train, y_test = train_test_split(predictors, target, test_size=0.3, random_state=0)"
   ]
  },
  {
   "cell_type": "code",
   "execution_count": 5,
   "metadata": {},
   "outputs": [],
   "source": [
    "model = Sequential()\n",
    "model.add(Dense(10000, activation='relu', input_shape=(n_cols,)))\n",
    "model.add(Dense(10000, activation='relu'))\n",
    "model.add(Dense(1000, activation='relu'))\n",
    "model.add(Dense(1000, activation='relu'))\n",
    "model.add(Dense(500, activation='relu'))\n",
    "model.add(Dense(1))"
   ]
  },
  {
   "cell_type": "code",
   "execution_count": 6,
   "metadata": {},
   "outputs": [
    {
     "name": "stdout",
     "output_type": "stream",
     "text": [
      "Train on 174 samples, validate on 75 samples\n",
      "Epoch 1/30\n",
      "174/174 [==============================] - 18s 106ms/step - loss: 40483.4365 - val_loss: 70.8835\n",
      "Epoch 2/30\n",
      "174/174 [==============================] - 10s 57ms/step - loss: 452.6251 - val_loss: 603.1334\n",
      "Epoch 3/30\n",
      "174/174 [==============================] - 10s 57ms/step - loss: 257.0542 - val_loss: 141.2892\n",
      "Epoch 4/30\n",
      "174/174 [==============================] - 10s 56ms/step - loss: 86.6900 - val_loss: 56.1707\n",
      "Epoch 5/30\n",
      "174/174 [==============================] - 10s 58ms/step - loss: 35.6955 - val_loss: 23.7062\n",
      "Epoch 6/30\n",
      "174/174 [==============================] - 10s 58ms/step - loss: 24.6291 - val_loss: 21.5237\n",
      "Epoch 7/30\n",
      "174/174 [==============================] - 10s 59ms/step - loss: 20.1391 - val_loss: 13.5738\n",
      "Epoch 8/30\n",
      "174/174 [==============================] - 10s 57ms/step - loss: 14.2330 - val_loss: 12.5667\n",
      "Epoch 9/30\n",
      "174/174 [==============================] - 10s 58ms/step - loss: 14.1249 - val_loss: 14.5753\n",
      "Epoch 10/30\n",
      "174/174 [==============================] - 10s 58ms/step - loss: 12.8520 - val_loss: 18.4992\n",
      "Epoch 11/30\n",
      "174/174 [==============================] - 10s 59ms/step - loss: 13.4290 - val_loss: 12.4215\n",
      "Epoch 12/30\n",
      "174/174 [==============================] - 10s 58ms/step - loss: 10.5333 - val_loss: 17.1432\n",
      "Epoch 13/30\n",
      "174/174 [==============================] - 10s 57ms/step - loss: 13.8581 - val_loss: 43.7874\n",
      "Epoch 14/30\n",
      "174/174 [==============================] - 10s 57ms/step - loss: 27.2361 - val_loss: 41.2026\n",
      "Epoch 15/30\n",
      "174/174 [==============================] - 10s 56ms/step - loss: 25.3235 - val_loss: 19.5042\n",
      "Epoch 16/30\n",
      "174/174 [==============================] - 10s 57ms/step - loss: 15.0007 - val_loss: 11.6234\n",
      "Epoch 17/30\n",
      "174/174 [==============================] - 10s 56ms/step - loss: 10.1046 - val_loss: 14.2106\n",
      "Epoch 18/30\n",
      "174/174 [==============================] - 10s 59ms/step - loss: 11.2635 - val_loss: 12.2742\n",
      "Epoch 19/30\n",
      "174/174 [==============================] - 10s 56ms/step - loss: 10.1053 - val_loss: 15.6636\n",
      "Epoch 20/30\n",
      "174/174 [==============================] - 10s 56ms/step - loss: 13.9946 - val_loss: 12.5223\n",
      "Epoch 21/30\n",
      "174/174 [==============================] - 10s 56ms/step - loss: 12.1406 - val_loss: 13.5612\n"
     ]
    },
    {
     "data": {
      "text/plain": [
       "<keras.callbacks.History at 0x12fc70470>"
      ]
     },
     "execution_count": 6,
     "metadata": {},
     "output_type": "execute_result"
    }
   ],
   "source": [
    "model.compile(optimizer='adam', loss='mean_squared_error')\n",
    "model.fit(X_train, y_train, validation_split=0.3, \n",
    "          epochs=30, callbacks = [early_stopping_monitor])"
   ]
  },
  {
   "cell_type": "code",
   "execution_count": 7,
   "metadata": {},
   "outputs": [
    {
     "data": {
      "text/plain": [
       "10.367771"
      ]
     },
     "execution_count": 7,
     "metadata": {},
     "output_type": "execute_result"
    }
   ],
   "source": [
    "model.test_on_batch(X_test, y_test)"
   ]
  }
 ],
 "metadata": {
  "kernelspec": {
   "display_name": "grade_predictor",
   "language": "python",
   "name": "grade_predictor"
  },
  "language_info": {
   "codemirror_mode": {
    "name": "ipython",
    "version": 3
   },
   "file_extension": ".py",
   "mimetype": "text/x-python",
   "name": "python",
   "nbconvert_exporter": "python",
   "pygments_lexer": "ipython3",
   "version": "3.6.5"
  }
 },
 "nbformat": 4,
 "nbformat_minor": 2
}
