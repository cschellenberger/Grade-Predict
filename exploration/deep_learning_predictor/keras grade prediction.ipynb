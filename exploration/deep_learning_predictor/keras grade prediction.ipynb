{
 "cells": [
  {
   "cell_type": "code",
   "execution_count": 1,
   "metadata": {},
   "outputs": [
    {
     "name": "stderr",
     "output_type": "stream",
     "text": [
      "Using TensorFlow backend.\n"
     ]
    }
   ],
   "source": [
    "import pandas as pd\n",
    "\n",
    "from sklearn.model_selection import train_test_split\n",
    "from keras.layers import Dense\n",
    "from keras.models import Sequential\n",
    "from keras.callbacks import EarlyStopping\n",
    "\n",
    "early_stopping_monitor = EarlyStopping(patience=5)"
   ]
  },
  {
   "cell_type": "code",
   "execution_count": 2,
   "metadata": {},
   "outputs": [
    {
     "name": "stdout",
     "output_type": "stream",
     "text": [
      "2018-12-03T19:52:55-07:00\n",
      "\n",
      "CPython 3.6.5\n",
      "IPython 7.1.1\n",
      "\n",
      "compiler   : GCC 4.2.1 (Apple Inc. build 5666) (dot 3)\n",
      "system     : Darwin\n",
      "release    : 18.2.0\n",
      "machine    : x86_64\n",
      "processor  : i386\n",
      "CPU cores  : 8\n",
      "interpreter: 64bit\n"
     ]
    }
   ],
   "source": [
    "%load_ext watermark\n",
    "%watermark"
   ]
  },
  {
   "cell_type": "code",
   "execution_count": 3,
   "metadata": {},
   "outputs": [],
   "source": [
    "df = pd.read_csv(\"../data_processing/cleaned-data.csv\")"
   ]
  },
  {
   "cell_type": "code",
   "execution_count": 4,
   "metadata": {},
   "outputs": [],
   "source": [
    "predictors = df.drop(['G3', 'G1', 'G2'], axis=1).values\n",
    "target = df.G3\n",
    "\n",
    "n_cols = predictors.shape[1]"
   ]
  },
  {
   "cell_type": "code",
   "execution_count": 5,
   "metadata": {},
   "outputs": [],
   "source": [
    "X_train, X_test, y_train, y_test = train_test_split(predictors, target, test_size=0.3, random_state=0)"
   ]
  },
  {
   "cell_type": "code",
   "execution_count": 6,
   "metadata": {},
   "outputs": [],
   "source": [
    "model = Sequential()\n",
    "model.add(Dense(100, activation='relu', input_shape=(n_cols,)))\n",
    "model.add(Dense(100, activation='relu'))\n",
    "model.add(Dense(100, activation='relu'))\n",
    "model.add(Dense(50, activation='relu'))\n",
    "model.add(Dense(10, activation='relu'))\n",
    "model.add(Dense(1))"
   ]
  },
  {
   "cell_type": "code",
   "execution_count": 7,
   "metadata": {},
   "outputs": [
    {
     "name": "stdout",
     "output_type": "stream",
     "text": [
      "Train on 174 samples, validate on 75 samples\n",
      "Epoch 1/30\n",
      "174/174 [==============================] - 1s 3ms/step - loss: 43.8834 - val_loss: 40.4392\n",
      "Epoch 2/30\n",
      "174/174 [==============================] - 0s 128us/step - loss: 30.9182 - val_loss: 32.5814\n",
      "Epoch 3/30\n",
      "174/174 [==============================] - 0s 110us/step - loss: 23.4502 - val_loss: 36.6701\n",
      "Epoch 4/30\n",
      "174/174 [==============================] - 0s 115us/step - loss: 21.9021 - val_loss: 22.3297\n",
      "Epoch 5/30\n",
      "174/174 [==============================] - 0s 106us/step - loss: 14.9341 - val_loss: 26.5966\n",
      "Epoch 6/30\n",
      "174/174 [==============================] - 0s 131us/step - loss: 14.8596 - val_loss: 15.5687\n",
      "Epoch 7/30\n",
      "174/174 [==============================] - 0s 110us/step - loss: 16.8374 - val_loss: 19.8979\n",
      "Epoch 8/30\n",
      "174/174 [==============================] - 0s 112us/step - loss: 15.3161 - val_loss: 24.8169\n",
      "Epoch 9/30\n",
      "174/174 [==============================] - 0s 118us/step - loss: 12.2739 - val_loss: 14.4147\n",
      "Epoch 10/30\n",
      "174/174 [==============================] - 0s 123us/step - loss: 11.4300 - val_loss: 14.4207\n",
      "Epoch 11/30\n",
      "174/174 [==============================] - 0s 111us/step - loss: 11.4084 - val_loss: 12.5397\n",
      "Epoch 12/30\n",
      "174/174 [==============================] - 0s 120us/step - loss: 10.3604 - val_loss: 12.5597\n",
      "Epoch 13/30\n",
      "174/174 [==============================] - 0s 122us/step - loss: 9.8930 - val_loss: 11.4479\n",
      "Epoch 14/30\n",
      "174/174 [==============================] - 0s 103us/step - loss: 9.2585 - val_loss: 10.9720\n",
      "Epoch 15/30\n",
      "174/174 [==============================] - 0s 111us/step - loss: 9.5228 - val_loss: 11.0287\n",
      "Epoch 16/30\n",
      "174/174 [==============================] - 0s 104us/step - loss: 10.4779 - val_loss: 10.5942\n",
      "Epoch 17/30\n",
      "174/174 [==============================] - 0s 107us/step - loss: 10.1439 - val_loss: 16.0860\n",
      "Epoch 18/30\n",
      "174/174 [==============================] - 0s 117us/step - loss: 10.4309 - val_loss: 11.1325\n",
      "Epoch 19/30\n",
      "174/174 [==============================] - 0s 105us/step - loss: 9.0968 - val_loss: 10.8838\n",
      "Epoch 20/30\n",
      "174/174 [==============================] - 0s 104us/step - loss: 8.5233 - val_loss: 10.2387\n",
      "Epoch 21/30\n",
      "174/174 [==============================] - 0s 92us/step - loss: 8.4699 - val_loss: 10.4530\n",
      "Epoch 22/30\n",
      "174/174 [==============================] - 0s 95us/step - loss: 8.4709 - val_loss: 11.4076\n",
      "Epoch 23/30\n",
      "174/174 [==============================] - 0s 94us/step - loss: 8.3568 - val_loss: 10.1336\n",
      "Epoch 24/30\n",
      "174/174 [==============================] - 0s 108us/step - loss: 9.2330 - val_loss: 9.9743\n",
      "Epoch 25/30\n",
      "174/174 [==============================] - 0s 97us/step - loss: 9.4480 - val_loss: 23.4517\n",
      "Epoch 26/30\n",
      "174/174 [==============================] - 0s 98us/step - loss: 12.1306 - val_loss: 10.7339\n",
      "Epoch 27/30\n",
      "174/174 [==============================] - 0s 98us/step - loss: 9.3401 - val_loss: 18.8206\n",
      "Epoch 28/30\n",
      "174/174 [==============================] - 0s 102us/step - loss: 9.8139 - val_loss: 13.1216\n",
      "Epoch 29/30\n",
      "174/174 [==============================] - 0s 102us/step - loss: 11.9450 - val_loss: 11.4749\n"
     ]
    },
    {
     "data": {
      "text/plain": [
       "<keras.callbacks.History at 0x12f300198>"
      ]
     },
     "execution_count": 7,
     "metadata": {},
     "output_type": "execute_result"
    }
   ],
   "source": [
    "model.compile(optimizer='adam', loss='mean_squared_error')\n",
    "model.fit(X_train, y_train, validation_split=0.3, \n",
    "          epochs=30, callbacks = [early_stopping_monitor])"
   ]
  },
  {
   "cell_type": "code",
   "execution_count": 8,
   "metadata": {},
   "outputs": [
    {
     "data": {
      "text/plain": [
       "9.608382"
      ]
     },
     "execution_count": 8,
     "metadata": {},
     "output_type": "execute_result"
    }
   ],
   "source": [
    "model.test_on_batch(X_test, y_test)"
   ]
  },
  {
   "cell_type": "code",
   "execution_count": null,
   "metadata": {},
   "outputs": [],
   "source": []
  }
 ],
 "metadata": {
  "kernelspec": {
   "display_name": "grade_predictor",
   "language": "python",
   "name": "grade_predictor"
  },
  "language_info": {
   "codemirror_mode": {
    "name": "ipython",
    "version": 3
   },
   "file_extension": ".py",
   "mimetype": "text/x-python",
   "name": "python",
   "nbconvert_exporter": "python",
   "pygments_lexer": "ipython3",
   "version": "3.6.5"
  }
 },
 "nbformat": 4,
 "nbformat_minor": 2
}
