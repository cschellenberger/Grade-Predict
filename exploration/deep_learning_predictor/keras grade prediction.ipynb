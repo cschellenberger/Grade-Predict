{
 "cells": [
  {
   "cell_type": "code",
   "execution_count": 1,
   "metadata": {},
   "outputs": [
    {
     "name": "stderr",
     "output_type": "stream",
     "text": [
      "Using TensorFlow backend.\n"
     ]
    }
   ],
   "source": [
    "import pandas as pd\n",
    "\n",
    "from sklearn.model_selection import train_test_split\n",
    "from keras.layers import Dense\n",
    "from keras.models import Sequential\n",
    "from keras.utils import to_categorical\n",
    "from keras.callbacks import EarlyStopping\n",
    "\n",
    "early_stopping_monitor = EarlyStopping(patience=3)"
   ]
  },
  {
   "cell_type": "code",
   "execution_count": 2,
   "metadata": {},
   "outputs": [
    {
     "name": "stdout",
     "output_type": "stream",
     "text": [
      "2018-12-03T20:48:00-07:00\n",
      "\n",
      "CPython 3.6.5\n",
      "IPython 7.1.1\n",
      "\n",
      "compiler   : GCC 4.2.1 (Apple Inc. build 5666) (dot 3)\n",
      "system     : Darwin\n",
      "release    : 18.2.0\n",
      "machine    : x86_64\n",
      "processor  : i386\n",
      "CPU cores  : 8\n",
      "interpreter: 64bit\n"
     ]
    }
   ],
   "source": [
    "%load_ext watermark\n",
    "%watermark"
   ]
  },
  {
   "cell_type": "code",
   "execution_count": 3,
   "metadata": {},
   "outputs": [],
   "source": [
    "df = pd.read_csv(\"../data_processing/cleaned-data.csv\")"
   ]
  },
  {
   "cell_type": "code",
   "execution_count": 4,
   "metadata": {},
   "outputs": [],
   "source": [
    "predictors = df.drop(['G3', 'G1', 'G2'], axis=1).values\n",
    "target = to_categorical(df.G3)\n",
    "\n",
    "n_cols = predictors.shape[1]"
   ]
  },
  {
   "cell_type": "code",
   "execution_count": 5,
   "metadata": {},
   "outputs": [],
   "source": [
    "model = Sequential()\n",
    "model.add(Dense(100, activation='relu', input_shape=(n_cols,)))\n",
    "model.add(Dense(42, activation='relu'))\n",
    "# Add the output layer\n",
    "model.add(Dense(21, activation='softmax'))\n",
    "\n",
    "# Compile the model\n",
    "model.compile(optimizer='adam', loss='categorical_crossentropy', metrics=['accuracy'])"
   ]
  },
  {
   "cell_type": "code",
   "execution_count": 6,
   "metadata": {},
   "outputs": [
    {
     "name": "stdout",
     "output_type": "stream",
     "text": [
      "Train on 249 samples, validate on 108 samples\n",
      "Epoch 1/30\n",
      "249/249 [==============================] - 0s 1ms/step - loss: 9.1935 - acc: 0.0562 - val_loss: 10.7570 - val_acc: 0.1019\n",
      "Epoch 2/30\n",
      "249/249 [==============================] - 0s 70us/step - loss: 5.8648 - acc: 0.1044 - val_loss: 6.1781 - val_acc: 0.0370\n",
      "Epoch 3/30\n",
      "249/249 [==============================] - 0s 74us/step - loss: 4.3472 - acc: 0.0803 - val_loss: 5.0595 - val_acc: 0.0926\n",
      "Epoch 4/30\n",
      "249/249 [==============================] - 0s 75us/step - loss: 3.7520 - acc: 0.1165 - val_loss: 3.8367 - val_acc: 0.1296\n",
      "Epoch 5/30\n",
      "249/249 [==============================] - 0s 74us/step - loss: 3.0709 - acc: 0.1647 - val_loss: 4.2023 - val_acc: 0.1296\n",
      "Epoch 6/30\n",
      "249/249 [==============================] - 0s 64us/step - loss: 3.0067 - acc: 0.1406 - val_loss: 3.4686 - val_acc: 0.0741\n",
      "Epoch 7/30\n",
      "249/249 [==============================] - 0s 72us/step - loss: 2.8565 - acc: 0.1606 - val_loss: 3.4936 - val_acc: 0.0648\n",
      "Epoch 8/30\n",
      "249/249 [==============================] - 0s 71us/step - loss: 2.7760 - acc: 0.1606 - val_loss: 3.0527 - val_acc: 0.1481\n",
      "Epoch 9/30\n",
      "249/249 [==============================] - 0s 68us/step - loss: 2.7548 - acc: 0.1647 - val_loss: 3.1664 - val_acc: 0.0370\n",
      "Epoch 10/30\n",
      "249/249 [==============================] - 0s 69us/step - loss: 2.6996 - acc: 0.1687 - val_loss: 3.2738 - val_acc: 0.1111\n",
      "Epoch 11/30\n",
      "249/249 [==============================] - 0s 71us/step - loss: 2.6143 - acc: 0.2048 - val_loss: 2.9890 - val_acc: 0.0741\n",
      "Epoch 12/30\n",
      "249/249 [==============================] - 0s 75us/step - loss: 2.6090 - acc: 0.1847 - val_loss: 3.0987 - val_acc: 0.1944\n",
      "Epoch 13/30\n",
      "249/249 [==============================] - 0s 70us/step - loss: 2.5947 - acc: 0.1847 - val_loss: 3.3444 - val_acc: 0.0833\n",
      "Epoch 14/30\n",
      "249/249 [==============================] - 0s 67us/step - loss: 2.5797 - acc: 0.2129 - val_loss: 3.0499 - val_acc: 0.1111\n"
     ]
    },
    {
     "data": {
      "text/plain": [
       "<keras.callbacks.History at 0x10fe789b0>"
      ]
     },
     "execution_count": 6,
     "metadata": {},
     "output_type": "execute_result"
    }
   ],
   "source": [
    "model.fit(predictors, target, validation_split=0.3, \n",
    "          epochs=30, callbacks = [early_stopping_monitor])"
   ]
  }
 ],
 "metadata": {
  "kernelspec": {
   "display_name": "grade_predictor",
   "language": "python",
   "name": "grade_predictor"
  },
  "language_info": {
   "codemirror_mode": {
    "name": "ipython",
    "version": 3
   },
   "file_extension": ".py",
   "mimetype": "text/x-python",
   "name": "python",
   "nbconvert_exporter": "python",
   "pygments_lexer": "ipython3",
   "version": "3.6.5"
  }
 },
 "nbformat": 4,
 "nbformat_minor": 2
}
