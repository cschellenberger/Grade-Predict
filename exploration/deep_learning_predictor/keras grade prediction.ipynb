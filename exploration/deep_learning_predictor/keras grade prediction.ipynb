{
 "cells": [
  {
   "cell_type": "code",
   "execution_count": 1,
   "metadata": {},
   "outputs": [
    {
     "name": "stderr",
     "output_type": "stream",
     "text": [
      "Using TensorFlow backend.\n"
     ]
    }
   ],
   "source": [
    "import pandas as pd\n",
    "\n",
    "from sklearn.model_selection import train_test_split\n",
    "from keras.layers import Dense\n",
    "from keras.models import Sequential\n",
    "from keras.utils import to_categorical\n",
    "from keras.callbacks import EarlyStopping\n",
    "\n",
    "early_stopping_monitor = EarlyStopping(patience=3)"
   ]
  },
  {
   "cell_type": "code",
   "execution_count": 2,
   "metadata": {},
   "outputs": [
    {
     "name": "stdout",
     "output_type": "stream",
     "text": [
      "2018-12-04T14:29:16-07:00\n",
      "\n",
      "CPython 3.6.5\n",
      "IPython 7.1.1\n",
      "\n",
      "compiler   : GCC 4.2.1 (Apple Inc. build 5666) (dot 3)\n",
      "system     : Darwin\n",
      "release    : 18.2.0\n",
      "machine    : x86_64\n",
      "processor  : i386\n",
      "CPU cores  : 8\n",
      "interpreter: 64bit\n"
     ]
    }
   ],
   "source": [
    "%load_ext watermark\n",
    "%watermark"
   ]
  },
  {
   "cell_type": "code",
   "execution_count": 3,
   "metadata": {},
   "outputs": [],
   "source": [
    "df = pd.read_csv(\"../data_processing/cleaned-data.csv\")"
   ]
  },
  {
   "cell_type": "code",
   "execution_count": 9,
   "metadata": {},
   "outputs": [],
   "source": [
    "predictors = df.drop(['G3', 'G1', 'G2'], axis=1).values\n",
    "target = to_categorical(df.G3)\n",
    "target_reg = df.G3\n",
    "\n",
    "n_cols = predictors.shape[1]"
   ]
  },
  {
   "cell_type": "code",
   "execution_count": 5,
   "metadata": {},
   "outputs": [],
   "source": [
    "model = Sequential()\n",
    "model.add(Dense(100, activation='relu', input_shape=(n_cols,)))\n",
    "model.add(Dense(42, activation='relu'))\n",
    "# Add the output layer\n",
    "model.add(Dense(21, activation='softmax'))\n",
    "\n",
    "# Compile the model\n",
    "model.compile(optimizer='adam', loss='categorical_crossentropy', metrics=['accuracy'])"
   ]
  },
  {
   "cell_type": "code",
   "execution_count": 6,
   "metadata": {
    "scrolled": true
   },
   "outputs": [
    {
     "name": "stdout",
     "output_type": "stream",
     "text": [
      "Train on 249 samples, validate on 108 samples\n",
      "Epoch 1/30\n",
      "249/249 [==============================] - 0s 2ms/step - loss: 11.4865 - acc: 0.0602 - val_loss: 11.5645 - val_acc: 0.0741\n",
      "Epoch 2/30\n",
      "249/249 [==============================] - 0s 67us/step - loss: 8.8899 - acc: 0.1486 - val_loss: 9.1038 - val_acc: 0.0741\n",
      "Epoch 3/30\n",
      "249/249 [==============================] - 0s 71us/step - loss: 7.9319 - acc: 0.0843 - val_loss: 9.2866 - val_acc: 0.0926\n",
      "Epoch 4/30\n",
      "249/249 [==============================] - 0s 69us/step - loss: 7.1534 - acc: 0.1365 - val_loss: 8.7955 - val_acc: 0.0741\n",
      "Epoch 5/30\n",
      "249/249 [==============================] - 0s 72us/step - loss: 6.1100 - acc: 0.0884 - val_loss: 8.1399 - val_acc: 0.0463\n",
      "Epoch 6/30\n",
      "249/249 [==============================] - 0s 69us/step - loss: 5.6175 - acc: 0.0924 - val_loss: 7.6796 - val_acc: 0.0926\n",
      "Epoch 7/30\n",
      "249/249 [==============================] - 0s 72us/step - loss: 4.8375 - acc: 0.1205 - val_loss: 6.1118 - val_acc: 0.1111\n",
      "Epoch 8/30\n",
      "249/249 [==============================] - 0s 72us/step - loss: 4.3035 - acc: 0.1406 - val_loss: 5.9660 - val_acc: 0.1019\n",
      "Epoch 9/30\n",
      "249/249 [==============================] - 0s 72us/step - loss: 4.1931 - acc: 0.1486 - val_loss: 6.3306 - val_acc: 0.0741\n",
      "Epoch 10/30\n",
      "249/249 [==============================] - 0s 73us/step - loss: 3.8166 - acc: 0.1365 - val_loss: 5.3339 - val_acc: 0.0926\n",
      "Epoch 11/30\n",
      "249/249 [==============================] - 0s 72us/step - loss: 3.2883 - acc: 0.1124 - val_loss: 4.7061 - val_acc: 0.0648\n",
      "Epoch 12/30\n",
      "249/249 [==============================] - 0s 73us/step - loss: 2.8101 - acc: 0.1365 - val_loss: 3.5878 - val_acc: 0.0741\n",
      "Epoch 13/30\n",
      "249/249 [==============================] - 0s 78us/step - loss: 2.7489 - acc: 0.1606 - val_loss: 3.2864 - val_acc: 0.0833\n",
      "Epoch 14/30\n",
      "249/249 [==============================] - 0s 84us/step - loss: 2.6454 - acc: 0.1687 - val_loss: 3.3091 - val_acc: 0.0833\n",
      "Epoch 15/30\n",
      "249/249 [==============================] - 0s 79us/step - loss: 2.5532 - acc: 0.1767 - val_loss: 3.2207 - val_acc: 0.0833\n",
      "Epoch 16/30\n",
      "249/249 [==============================] - 0s 74us/step - loss: 2.5882 - acc: 0.1928 - val_loss: 2.9789 - val_acc: 0.1296\n",
      "Epoch 17/30\n",
      "249/249 [==============================] - 0s 75us/step - loss: 2.6865 - acc: 0.2048 - val_loss: 3.7241 - val_acc: 0.0741\n",
      "Epoch 18/30\n",
      "249/249 [==============================] - 0s 77us/step - loss: 2.6985 - acc: 0.1888 - val_loss: 4.2484 - val_acc: 0.0833\n",
      "Epoch 19/30\n",
      "249/249 [==============================] - 0s 74us/step - loss: 2.5789 - acc: 0.2249 - val_loss: 2.9974 - val_acc: 0.1759\n"
     ]
    },
    {
     "data": {
      "text/plain": [
       "<keras.callbacks.History at 0x10ec3b898>"
      ]
     },
     "execution_count": 6,
     "metadata": {},
     "output_type": "execute_result"
    }
   ],
   "source": [
    "model.fit(predictors, target, validation_split=0.3, \n",
    "          epochs=30, callbacks = [early_stopping_monitor])"
   ]
  },
  {
   "cell_type": "code",
   "execution_count": 7,
   "metadata": {},
   "outputs": [],
   "source": [
    "model_reg = Sequential()\n",
    "model_reg.add(Dense(100, activation='relu', input_shape=(n_cols,)))\n",
    "model_reg.add(Dense(42, activation='relu'))\n",
    "# Add the output layer\n",
    "model_reg.add(Dense(1, activation='relu'))\n",
    "\n",
    "# Compile the model\n",
    "model_reg.compile(optimizer='adam', loss='mean_squared_error', metrics=['accuracy'])"
   ]
  },
  {
   "cell_type": "code",
   "execution_count": 10,
   "metadata": {},
   "outputs": [
    {
     "name": "stdout",
     "output_type": "stream",
     "text": [
      "Train on 249 samples, validate on 108 samples\n",
      "Epoch 1/30\n",
      "249/249 [==============================] - 0s 1ms/step - loss: 56.0099 - acc: 0.0201 - val_loss: 91.4175 - val_acc: 0.0185\n",
      "Epoch 2/30\n",
      "249/249 [==============================] - 0s 57us/step - loss: 36.9750 - acc: 0.0643 - val_loss: 47.5716 - val_acc: 0.0185\n",
      "Epoch 3/30\n",
      "249/249 [==============================] - 0s 64us/step - loss: 27.2979 - acc: 0.0683 - val_loss: 37.3263 - val_acc: 0.0463\n",
      "Epoch 4/30\n",
      "249/249 [==============================] - 0s 66us/step - loss: 19.6736 - acc: 0.0683 - val_loss: 26.8781 - val_acc: 0.0741\n",
      "Epoch 5/30\n",
      "249/249 [==============================] - 0s 65us/step - loss: 14.9281 - acc: 0.1245 - val_loss: 14.2164 - val_acc: 0.0556\n",
      "Epoch 6/30\n",
      "249/249 [==============================] - 0s 66us/step - loss: 12.8309 - acc: 0.1325 - val_loss: 11.0021 - val_acc: 0.1019\n",
      "Epoch 7/30\n",
      "249/249 [==============================] - 0s 68us/step - loss: 11.6232 - acc: 0.0843 - val_loss: 10.2766 - val_acc: 0.1111\n",
      "Epoch 8/30\n",
      "249/249 [==============================] - 0s 63us/step - loss: 11.9256 - acc: 0.1084 - val_loss: 16.4833 - val_acc: 0.1296\n",
      "Epoch 9/30\n",
      "249/249 [==============================] - 0s 69us/step - loss: 11.4761 - acc: 0.0723 - val_loss: 9.5926 - val_acc: 0.1111\n",
      "Epoch 10/30\n",
      "249/249 [==============================] - 0s 64us/step - loss: 10.6821 - acc: 0.0964 - val_loss: 9.5139 - val_acc: 0.1296\n",
      "Epoch 11/30\n",
      "249/249 [==============================] - 0s 74us/step - loss: 10.5694 - acc: 0.1004 - val_loss: 9.7689 - val_acc: 0.1296\n",
      "Epoch 12/30\n",
      "249/249 [==============================] - 0s 65us/step - loss: 10.1893 - acc: 0.1124 - val_loss: 11.9919 - val_acc: 0.0741\n",
      "Epoch 13/30\n",
      "249/249 [==============================] - 0s 70us/step - loss: 10.7925 - acc: 0.1205 - val_loss: 9.6671 - val_acc: 0.1204\n"
     ]
    },
    {
     "data": {
      "text/plain": [
       "<keras.callbacks.History at 0x1302d94e0>"
      ]
     },
     "execution_count": 10,
     "metadata": {},
     "output_type": "execute_result"
    }
   ],
   "source": [
    "model_reg.fit(predictors, target_reg, validation_split=0.3, \n",
    "          epochs=30, callbacks = [early_stopping_monitor])"
   ]
  },
  {
   "cell_type": "code",
   "execution_count": null,
   "metadata": {},
   "outputs": [],
   "source": []
  }
 ],
 "metadata": {
  "kernelspec": {
   "display_name": "grade_predictor",
   "language": "python",
   "name": "grade_predictor"
  },
  "language_info": {
   "codemirror_mode": {
    "name": "ipython",
    "version": 3
   },
   "file_extension": ".py",
   "mimetype": "text/x-python",
   "name": "python",
   "nbconvert_exporter": "python",
   "pygments_lexer": "ipython3",
   "version": "3.6.5"
  }
 },
 "nbformat": 4,
 "nbformat_minor": 2
}
