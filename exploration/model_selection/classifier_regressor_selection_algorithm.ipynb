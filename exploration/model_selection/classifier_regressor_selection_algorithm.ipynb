{
 "cells": [
  {
   "cell_type": "code",
   "execution_count": 1,
   "metadata": {},
   "outputs": [
    {
     "name": "stdout",
     "output_type": "stream",
     "text": [
      "WARN: OMP_NUM_THREADS=None =>\n",
      "... If you are using openblas if you are using openblas set OMP_NUM_THREADS=1 or risk subprocess calls hanging indefinitely\n"
     ]
    }
   ],
   "source": [
    "from hpsklearn import HyperoptEstimator, any_regressor, any_classifier, any_preprocessing\n",
    "from sklearn.model_selection import train_test_split\n",
    "from hyperopt import tpe\n",
    "import pandas as pd\n",
    "import numpy as np"
   ]
  },
  {
   "cell_type": "code",
   "execution_count": 2,
   "metadata": {},
   "outputs": [],
   "source": [
    "dtypes = {'age': np.float64, 'Medu': np.float64, 'Fedu': np.float64, 'traveltime': np.float64, 'studytime': np.float64, 'failures': np.float64, 'famrel': np.float64, 'freetime': np.float64, 'goout': np.float64, 'Dalc': np.float64, 'Walc': np.float64, 'health': np.float64, 'absences': np.float64, 'G1': np.float64, 'G2': np.float64, 'G3': np.float64, 'improved': np.float64, 'school_MS': np.float64, 'sex_M': np.float64, 'address_U': np.float64, 'famsize_LE3': np.float64, 'Pstatus_T': np.float64, 'Mjob_health': np.float64, 'Mjob_other': np.float64, 'Mjob_services': np.float64, 'Mjob_teacher': np.float64, 'Fjob_health': np.float64, 'Fjob_other': np.float64, 'Fjob_services': np.float64, 'Fjob_teacher': np.float64, 'reason_home': np.float64, 'reason_other': np.float64, 'reason_reputation': np.float64, 'guardian_mother': np.float64, 'guardian_other': np.float64, 'schoolsup_yes': np.float64, 'famsup_yes': np.float64, 'paid_yes': np.float64, 'activities_yes': np.float64, 'nursery_yes': np.float64, 'higher_yes': np.float64, 'internet_yes': np.float64, 'romantic_yes': np.float64}\n",
    "data = pd.read_csv('../data_processing/cleaned-data.csv', index_col=0, dtype=dtypes)\n",
    "\n",
    "y = data.G3.values\n",
    "y.reshape(-1,1)\n",
    "\n",
    "X = data.drop(['G1', 'G2', 'G3'], axis=1).values"
   ]
  },
  {
   "cell_type": "code",
   "execution_count": 3,
   "metadata": {},
   "outputs": [],
   "source": [
    "X_train, X_test, y_train, y_test = train_test_split(X, y, test_size=0.3)"
   ]
  },
  {
   "cell_type": "code",
   "execution_count": 4,
   "metadata": {},
   "outputs": [
    {
     "name": "stdout",
     "output_type": "stream",
     "text": [
      "0.16666666666666666\n",
      "{'learner': AdaBoostClassifier(algorithm='SAMME.R', base_estimator=None,\n",
      "          learning_rate=0.09875123752699139, n_estimators=43,\n",
      "          random_state=0), 'preprocs': (Normalizer(copy=True, norm='l1'),), 'ex_preprocs': ()}\n"
     ]
    }
   ],
   "source": [
    "import warnings\n",
    "warnings.filterwarnings(\"ignore\", category=DeprecationWarning)\n",
    "\n",
    "estim = HyperoptEstimator(classifier=any_classifier('my_clf'),\n",
    "                          preprocessing=any_preprocessing('my_pre'),\n",
    "                          algo=tpe.suggest,\n",
    "                          max_evals=100,\n",
    "                          trial_timeout=120)\n",
    "\n",
    "# Search the hyperparameter space based on the data\n",
    "\n",
    "estim.fit(X_train, y_train)\n",
    "\n",
    "# Show the results\n",
    "\n",
    "print(estim.score(X_test, y_test))\n",
    "\n",
    "print( estim.best_model() )"
   ]
  },
  {
   "cell_type": "code",
   "execution_count": 5,
   "metadata": {
    "scrolled": true
   },
   "outputs": [
    {
     "name": "stdout",
     "output_type": "stream",
     "text": [
      "0.12037037037037036\n",
      "{'learner': AdaBoostClassifier(algorithm='SAMME.R', base_estimator=None,\n",
      "          learning_rate=0.0017147934290458798, n_estimators=148,\n",
      "          random_state=0), 'preprocs': (), 'ex_preprocs': ()}\n"
     ]
    }
   ],
   "source": [
    "estim_reg = HyperoptEstimator(regressor=any_regressor('my_clf'),\n",
    "                          preprocessing=any_preprocessing('my_pre'),\n",
    "                          algo=tpe.suggest,\n",
    "                          max_evals=100,\n",
    "                          trial_timeout=120)\n",
    "\n",
    "# Search the hyperparameter space based on the data\n",
    "\n",
    "estim.fit(X_train, y_train)\n",
    "\n",
    "# Show the results\n",
    "\n",
    "print(estim.score(X_test, y_test))\n",
    "\n",
    "print( estim.best_model() )"
   ]
  },
  {
   "cell_type": "markdown",
   "metadata": {},
   "source": [
    "# Regression First Run\n",
    "0.12037037037037036\n",
    "{'learner': GradientBoostingClassifier(criterion='friedman_mse', init=None,\n",
    "              learning_rate=0.019416675115989265, loss='deviance',\n",
    "              max_depth=None, max_features=0.603513235739145,\n",
    "              max_leaf_nodes=None, min_impurity_decrease=0.0,\n",
    "              min_impurity_split=None, min_samples_leaf=23,\n",
    "              min_samples_split=2, min_weight_fraction_leaf=0.0,\n",
    "              n_estimators=27, n_iter_no_change=None, presort='auto',\n",
    "              random_state=1, subsample=0.7471292832416112, tol=0.0001,\n",
    "              validation_fraction=0.1, verbose=0, warm_start=False), 'preprocs': (MinMaxScaler(copy=True, feature_range=(0.0, 1.0)),), 'ex_preprocs': ()}\n",
    "              \n",
    "              \n",
    "# Classification First Run\n",
    "0.1111111111111111\n",
    "{'learner': KNeighborsClassifier(algorithm='auto', leaf_size=30, metric='euclidean',\n",
    "           metric_params=None, n_jobs=1, n_neighbors=41, p=2,\n",
    "           weights='distance'), 'preprocs': (PCA(copy=True, iterated_power='auto', n_components=40, random_state=None,\n",
    "  svd_solver='auto', tol=0.0, whiten=False),), 'ex_preprocs': ()}"
   ]
  },
  {
   "cell_type": "markdown",
   "metadata": {},
   "source": [
    "# Regression Second Run\n",
    "0.12962962962962962\n",
    "{'learner': AdaBoostClassifier(algorithm='SAMME.R', base_estimator=None,\n",
    "          learning_rate=0.01093619047791917, n_estimators=11,\n",
    "          random_state=0), 'preprocs': (PCA(copy=True, iterated_power='auto', n_components=40, random_state=None,\n",
    "  svd_solver='auto', tol=0.0, whiten=True),), 'ex_preprocs': ()}\n",
    "\n",
    "# Classification Second Run\n",
    "0.1388888888888889\n",
    "{'learner': RandomForestClassifier(bootstrap=True, class_weight=None, criterion='entropy',\n",
    "            max_depth=None, max_features='log2', max_leaf_nodes=None,\n",
    "            min_impurity_decrease=0.0, min_impurity_split=None,\n",
    "            min_samples_leaf=13, min_samples_split=2,\n",
    "            min_weight_fraction_leaf=0.0, n_estimators=466, n_jobs=1,\n",
    "            oob_score=False, random_state=2, verbose=False,\n",
    "            warm_start=False), 'preprocs': (Normalizer(copy=True, norm='l2'),), 'ex_preprocs': ()}"
   ]
  },
  {
   "cell_type": "markdown",
   "metadata": {},
   "source": [
    "# Regression Third Run\n",
    "0.16666666666666666\n",
    "{'learner': AdaBoostClassifier(algorithm='SAMME.R', base_estimator=None,\n",
    "          learning_rate=0.09875123752699139, n_estimators=43,\n",
    "          random_state=0), 'preprocs': (Normalizer(copy=True, norm='l1'),), 'ex_preprocs': ()}\n",
    "\n",
    "# Classification Third Run\n",
    "0.12037037037037036\n",
    "{'learner': AdaBoostClassifier(algorithm='SAMME.R', base_estimator=None,\n",
    "          learning_rate=0.0017147934290458798, n_estimators=148,\n",
    "          random_state=0), 'preprocs': (), 'ex_preprocs': ()}"
   ]
  },
  {
   "cell_type": "code",
   "execution_count": null,
   "metadata": {},
   "outputs": [],
   "source": []
  }
 ],
 "metadata": {
  "kernelspec": {
   "display_name": "Python 3",
   "language": "python",
   "name": "python3"
  },
  "language_info": {
   "codemirror_mode": {
    "name": "ipython",
    "version": 3
   },
   "file_extension": ".py",
   "mimetype": "text/x-python",
   "name": "python",
   "nbconvert_exporter": "python",
   "pygments_lexer": "ipython3",
   "version": "3.6.6"
  }
 },
 "nbformat": 4,
 "nbformat_minor": 2
}
