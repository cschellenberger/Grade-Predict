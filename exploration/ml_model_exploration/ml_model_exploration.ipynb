{
 "cells": [
  {
   "cell_type": "code",
   "execution_count": 1,
   "metadata": {},
   "outputs": [],
   "source": [
    "import pandas as pd\n",
    "import numpy as np\n",
    "from sklearn.ensemble import AdaBoostClassifier, RandomForestRegressor\n",
    "from sklearn.preprocessing import Normalizer, OneHotEncoder\n",
    "from sklearn.pipeline import Pipeline\n",
    "from sklearn.model_selection import train_test_split, GridSearchCV"
   ]
  },
  {
   "cell_type": "code",
   "execution_count": 2,
   "metadata": {},
   "outputs": [],
   "source": [
    "%run categories.py"
   ]
  },
  {
   "cell_type": "code",
   "execution_count": 3,
   "metadata": {},
   "outputs": [
    {
     "name": "stdout",
     "output_type": "stream",
     "text": [
      "(357, 30) (357,)\n"
     ]
    }
   ],
   "source": [
    "df = pd.read_csv('../data_processing/cleaned-data.csv', index_col=0)\n",
    "\n",
    "y = df.G3.values\n",
    "X = df.drop(['G1', 'G2', 'G3', 'improved', 'passed'], axis=1).values\n",
    "\n",
    "print(X.shape, y.shape)"
   ]
  },
  {
   "cell_type": "code",
   "execution_count": 4,
   "metadata": {},
   "outputs": [
    {
     "name": "stdout",
     "output_type": "stream",
     "text": [
      "[0 0 1 1 1]\n"
     ]
    }
   ],
   "source": [
    "y2 = df.passed.values\n",
    "y2.reshape(-1, 1)\n",
    "\n",
    "print(y2[0:5])"
   ]
  },
  {
   "cell_type": "code",
   "execution_count": 5,
   "metadata": {},
   "outputs": [
    {
     "data": {
      "text/plain": [
       "GridSearchCV(cv=5, error_score='raise-deprecating',\n",
       "       estimator=Pipeline(memory=None,\n",
       "     steps=[('ohe', OneHotEncoder(categorical_features=None,\n",
       "       categories=[array(['GP', 'MS'], dtype=object), array(['F', 'M'], dtype=object), array([10, 11, 12, 13, 14, 15, 16, 17, 18, 19, 20, 21, 22, 23, 24, 25, 26,\n",
       "       27, 28, 29], dtype=object), array(['R', 'U'], dtype=object), array(['GT3', ...ithm='SAMME.R', base_estimator=None,\n",
       "          learning_rate=1.0, n_estimators=50, random_state=0))]),\n",
       "       fit_params=None, iid=False, n_jobs=None,\n",
       "       param_grid={'adab__learning_rate': array([0.09 , 0.091, 0.092, 0.093, 0.094, 0.095, 0.096, 0.097, 0.098,\n",
       "       0.099, 0.1  ]), 'adab__n_estimators': array([500, 600, 700, 800, 900])},\n",
       "       pre_dispatch='2*n_jobs', refit=True, return_train_score='warn',\n",
       "       scoring='roc_auc', verbose=0)"
      ]
     },
     "execution_count": 5,
     "metadata": {},
     "output_type": "execute_result"
    }
   ],
   "source": [
    "# Setup the pipeline steps: steps\n",
    "steps = [('ohe', OneHotEncoder(categories=categories)),\n",
    "         ('adab', AdaBoostClassifier(base_estimator=None, algorithm='SAMME.R', random_state=0))]\n",
    "\n",
    "# Create the pipeline: pipeline \n",
    "pipeline = Pipeline(steps)\n",
    "\n",
    "# Specify the hyperparameter space\n",
    "parameters = {'adab__learning_rate': np.arange(0.09, 0.1, 0.001),\n",
    "             'adab__n_estimators': np.arange(500, 1000, 100)}\n",
    "\n",
    "# Create train and test sets\n",
    "X_train, X_test, y_train, y_test = train_test_split(X, y2, test_size=0.3, random_state=0)\n",
    "\n",
    "# Create the GridSearchCV object: yeg_cv\n",
    "ada_pass_predict_cv = GridSearchCV(pipeline, param_grid=parameters, scoring='roc_auc', cv=5, iid=False)\n",
    "\n",
    "# Fit to the training set\n",
    "ada_pass_predict_cv.fit(X_train, y_train)"
   ]
  },
  {
   "cell_type": "code",
   "execution_count": 6,
   "metadata": {},
   "outputs": [
    {
     "name": "stdout",
     "output_type": "stream",
     "text": [
      "Tuned adaBoost estimators: {'adab__learning_rate': 0.094, 'adab__n_estimators': 600}\n",
      "Tuned adaBoost Area Under the Curve: 0.47402880838061984\n"
     ]
    }
   ],
   "source": [
    "# Compute and print the metrics\n",
    "auc = ada_pass_predict_cv.score(X_test, y_test)\n",
    "print(\"Tuned adaBoost estimators: {}\".format(ada_pass_predict_cv.best_params_))\n",
    "print(\"Tuned adaBoost Area Under the Curve: {}\".format(auc))"
   ]
  },
  {
   "cell_type": "code",
   "execution_count": 7,
   "metadata": {},
   "outputs": [],
   "source": [
    "import matplotlib.pyplot as plt\n",
    "%matplotlib inline\n",
    "\n",
    "x_axis = ada_pass_predict_cv.predict_proba(X_test)\n",
    "y_axis = y_test"
   ]
  },
  {
   "cell_type": "code",
   "execution_count": 8,
   "metadata": {},
   "outputs": [
    {
     "data": {
      "text/plain": [
       "<matplotlib.collections.PathCollection at 0x1a1ef9b048>"
      ]
     },
     "execution_count": 8,
     "metadata": {},
     "output_type": "execute_result"
    },
    {
     "data": {
      "image/png": "[encoded data removed]",
      "text/plain": [
       "<Figure size 432x288 with 1 Axes>"
      ]
     },
     "metadata": {
      "needs_background": "light"
     },
     "output_type": "display_data"
    }
   ],
   "source": [
    "data = {'predicted_prob': x_axis[:, 0], 'actual': y_axis == False}\n",
    "df_compare = pd.DataFrame(data)\n",
    "\n",
    "df_grouped = df_compare.groupby(df_compare.predicted_prob.round(1)).agg({'actual':['mean', 'count']})\n",
    "plt.scatter(df_grouped.index, df_grouped[('actual', 'mean')], s=df_grouped[('actual', 'count')])"
   ]
  },
  {
   "cell_type": "markdown",
   "metadata": {},
   "source": [
    "# Random Forest Classifier"
   ]
  },
  {
   "cell_type": "code",
   "execution_count": 9,
   "metadata": {},
   "outputs": [],
   "source": [
    "from sklearn.ensemble import RandomForestClassifier"
   ]
  },
  {
   "cell_type": "code",
   "execution_count": 10,
   "metadata": {},
   "outputs": [
    {
     "data": {
      "text/plain": [
       "GridSearchCV(cv=5, error_score='raise-deprecating',\n",
       "       estimator=Pipeline(memory=None,\n",
       "     steps=[('ohe', OneHotEncoder(categorical_features=None,\n",
       "       categories=[array(['GP', 'MS'], dtype=object), array(['F', 'M'], dtype=object), array([10, 11, 12, 13, 14, 15, 16, 17, 18, 19, 20, 21, 22, 23, 24, 25, 26,\n",
       "       27, 28, 29], dtype=object), array(['R', 'U'], dtype=object), array(['GT3', ...obs=None,\n",
       "            oob_score=False, random_state=None, verbose=0,\n",
       "            warm_start=False))]),\n",
       "       fit_params=None, iid=False, n_jobs=None,\n",
       "       param_grid={'rfc__n_estimators': array([500, 600, 700, 800, 900])},\n",
       "       pre_dispatch='2*n_jobs', refit=True, return_train_score='warn',\n",
       "       scoring='roc_auc', verbose=0)"
      ]
     },
     "execution_count": 10,
     "metadata": {},
     "output_type": "execute_result"
    }
   ],
   "source": [
    "# Setup the pipeline steps: steps\n",
    "steps = [('ohe', OneHotEncoder(categories=categories)),\n",
    "         ('rfc', RandomForestClassifier(max_depth=20))]\n",
    "\n",
    "# Create the pipeline: pipeline \n",
    "pipeline = Pipeline(steps)\n",
    "\n",
    "# Specify the hyperparameter space\n",
    "parameters = {'rfc__n_estimators': np.arange(500, 1000, 100)}\n",
    "\n",
    "# Create train and test sets\n",
    "X_train, X_test, y_train, y_test = train_test_split(X, y2, test_size=0.3, random_state=0)\n",
    "\n",
    "# Create the GridSearchCV object: yeg_cv\n",
    "rfc_pass_predict_cv = GridSearchCV(pipeline, param_grid=parameters, scoring='roc_auc', cv=5, iid=False)\n",
    "\n",
    "# Fit to the training set\n",
    "rfc_pass_predict_cv.fit(X_train, y_train)"
   ]
  },
  {
   "cell_type": "code",
   "execution_count": 11,
   "metadata": {},
   "outputs": [
    {
     "name": "stdout",
     "output_type": "stream",
     "text": [
      "Tuned Random Forest estimators: {'rfc__n_estimators': 700}\n",
      "Tuned Random Forest Area Under the Curve: 0.6457878655608904\n"
     ]
    }
   ],
   "source": [
    "# Compute and print the metrics\n",
    "auc = rfc_pass_predict_cv.score(X_test, y_test)\n",
    "print(\"Tuned Random Forest estimators: {}\".format(rfc_pass_predict_cv.best_params_))\n",
    "print(\"Tuned Random Forest Area Under the Curve: {}\".format(auc))"
   ]
  },
  {
   "cell_type": "code",
   "execution_count": 12,
   "metadata": {},
   "outputs": [
    {
     "name": "stdout",
     "output_type": "stream",
     "text": [
      "Top Five Feature Importances:\n",
      "\n",
      " [(0.028450063593214638, 'x14_0'), (0.024377715465242245, 'x14_2'), (0.015102705316782199, 'x28_3'), (0.01400136802056182, 'x25_4'), (0.013429117030502393, 'x10_course')] \n",
      "\n",
      "\n",
      "\n",
      "Encoded Variable Reference (x14_0 = first category of enumerated column 14 [failures] below):\n",
      "\n",
      " {0: 'school', 1: 'sex', 2: 'age', 3: 'address', 4: 'famsize', 5: 'Pstatus', 6: 'Medu', 7: 'Fedu', 8: 'Mjob', 9: 'Fjob', 10: 'reason', 11: 'guardian', 12: 'traveltime', 13: 'studytime', 14: 'failures', 15: 'schoolsup', 16: 'famsup', 17: 'paid', 18: 'activities', 19: 'nursery', 20: 'higher', 21: 'internet', 22: 'romantic', 23: 'famrel', 24: 'freetime', 25: 'goout', 26: 'Dalc', 27: 'Walc', 28: 'health', 29: 'absences'}\n"
     ]
    }
   ],
   "source": [
    "feat_import = rfc_pass_predict_cv.best_estimator_.named_steps.rfc.feature_importances_\n",
    "feat_columns = rfc_pass_predict_cv.best_estimator_.named_steps.ohe.get_feature_names()\n",
    "feat_zip = zip(feat_import, feat_columns)\n",
    "feat_list = list(feat_zip)\n",
    "feat_list.sort(reverse=True)\n",
    "print('Top Five Feature Importances:\\n\\n', \n",
    "      feat_list[:5], \n",
    "      '\\n\\n\\n')\n",
    "print('Encoded Variable Reference (x14_0 = first category of enumerated column 14 [failures] below):\\n\\n', \n",
    "      dict(enumerate(df.drop(['G1', 'G2', 'G3', 'improved', 'passed'], axis=1).columns)))"
   ]
  },
  {
   "cell_type": "code",
   "execution_count": 13,
   "metadata": {},
   "outputs": [],
   "source": [
    "x_axis = rfc_pass_predict_cv.predict_proba(X_test)\n",
    "y_axis = y_test"
   ]
  },
  {
   "cell_type": "code",
   "execution_count": 14,
   "metadata": {},
   "outputs": [
    {
     "data": {
      "text/plain": [
       "<matplotlib.collections.PathCollection at 0x1a1f0ffac8>"
      ]
     },
     "execution_count": 14,
     "metadata": {},
     "output_type": "execute_result"
    },
    {
     "data": {
      "image/png": "[encoded data removed]",
      "text/plain": [
       "<Figure size 432x288 with 1 Axes>"
      ]
     },
     "metadata": {
      "needs_background": "light"
     },
     "output_type": "display_data"
    }
   ],
   "source": [
    "data = {'predicted_prob': x_axis[:, 0], 'actual': y_axis == False}\n",
    "df_compare_2 = pd.DataFrame(data)\n",
    "\n",
    "df_grouped = df_compare_2.groupby(df_compare_2.predicted_prob.round(1)).agg({'actual':['mean', 'count']})\n",
    "plt.scatter(df_grouped.index, df_grouped[('actual', 'mean')], s=df_grouped[('actual', 'count')])"
   ]
  },
  {
   "cell_type": "markdown",
   "metadata": {},
   "source": [
    "# Logistic Regression Model"
   ]
  },
  {
   "cell_type": "code",
   "execution_count": 15,
   "metadata": {},
   "outputs": [],
   "source": [
    "from sklearn.linear_model import LogisticRegression"
   ]
  },
  {
   "cell_type": "code",
   "execution_count": 16,
   "metadata": {},
   "outputs": [
    {
     "name": "stdout",
     "output_type": "stream",
     "text": [
      "Tuned Logistic Regression estimators: {'logit__C': 0.30000000000000004, 'logit__tol': 5e-05}\n",
      "Tuned Logistic Regression Area Under the Curve: 0.6473155827149717\n"
     ]
    }
   ],
   "source": [
    "# Setup the pipeline steps: steps\n",
    "steps = [('ohe', OneHotEncoder(categories=categories)),\n",
    "         ('logit', LogisticRegression(penalty='l2', solver='lbfgs', multi_class='auto'))]\n",
    "\n",
    "# Create the pipeline: pipeline \n",
    "pipeline = Pipeline(steps)\n",
    "\n",
    "# Specify the hyperparameter space\n",
    "parameters = {'logit__C': np.arange(0.1, 2, 0.05),\n",
    "             'logit__tol': np.arange(0.00005, 0.001, 0.0001)}\n",
    "\n",
    "# Create train and test sets\n",
    "X_train, X_test, y_train, y_test = train_test_split(X, y2, test_size=0.3, random_state=0)\n",
    "\n",
    "# Create the GridSearchCV object: yeg_cv\n",
    "pass_predict_cv = GridSearchCV(pipeline, param_grid=parameters, scoring='roc_auc', cv=10, iid=False)\n",
    "\n",
    "# Fit to the training set\n",
    "pass_predict_cv.fit(X_train, y_train)\n",
    "\n",
    "# Compute and print the metrics\n",
    "auc = pass_predict_cv.score(X_test, y_test)\n",
    "print(\"Tuned Logistic Regression estimators: {}\".format(pass_predict_cv.best_params_))\n",
    "print(\"Tuned Logistic Regression Area Under the Curve: {}\".format(auc))"
   ]
  },
  {
   "cell_type": "code",
   "execution_count": 17,
   "metadata": {},
   "outputs": [
    {
     "data": {
      "image/png": "[encoded data removed]",
      "text/plain": [
       "<Figure size 432x288 with 1 Axes>"
      ]
     },
     "metadata": {
      "needs_background": "light"
     },
     "output_type": "display_data"
    }
   ],
   "source": [
    "x_axis = pass_predict_cv.predict_proba(X_test)\n",
    "y_axis = y_test\n",
    "\n",
    "plt.scatter(x_axis[:, 1], y_axis)\n",
    "plt.xlabel('Predicted Pass Probability')\n",
    "plt.ylabel('Actual Value')\n",
    "plt.title('Predicted vs. Actual Grade Predictions')\n",
    "\n",
    "plt.show()"
   ]
  },
  {
   "cell_type": "code",
   "execution_count": 18,
   "metadata": {
    "scrolled": true
   },
   "outputs": [
    {
     "data": {
      "text/plain": [
       "<matplotlib.collections.PathCollection at 0x1a1f8379e8>"
      ]
     },
     "execution_count": 18,
     "metadata": {},
     "output_type": "execute_result"
    },
    {
     "data": {
      "image/png": "[encoded data removed]",
      "text/plain": [
       "<Figure size 432x288 with 1 Axes>"
      ]
     },
     "metadata": {
      "needs_background": "light"
     },
     "output_type": "display_data"
    }
   ],
   "source": [
    "data = {'predicted_prob': x_axis[:, 0], 'actual': y_axis == False}\n",
    "df_compare_3 = pd.DataFrame(data)\n",
    "\n",
    "df_grouped = df_compare_3.groupby(df_compare_3.predicted_prob.round(1)).agg({'actual':['mean', 'count']})\n",
    "plt.scatter(df_grouped.index, df_grouped[('actual', 'mean')], s=df_grouped[('actual', 'count')])"
   ]
  },
  {
   "cell_type": "code",
   "execution_count": 19,
   "metadata": {},
   "outputs": [
    {
     "data": {
      "text/plain": [
       "predicted_prob\n",
       "0.0     4\n",
       "0.1    38\n",
       "0.2    27\n",
       "0.3    16\n",
       "0.4    12\n",
       "0.5     6\n",
       "0.6     2\n",
       "0.7     2\n",
       "0.8     1\n",
       "Name: (actual, count), dtype: int64"
      ]
     },
     "execution_count": 19,
     "metadata": {},
     "output_type": "execute_result"
    }
   ],
   "source": [
    "df_grouped[('actual', 'count')]"
   ]
  },
  {
   "cell_type": "code",
   "execution_count": 20,
   "metadata": {},
   "outputs": [
    {
     "name": "stdout",
     "output_type": "stream",
     "text": [
      "Top Five Feature Odds:\n",
      "\n",
      " [(2.122681917845231, 'x14_0'), (1.7169269786188874, 'x29_2'), (1.666072209283492, 'x25_2'), (1.538531459502563, 'x14_1'), (1.5376865407545497, 'x28_1')] \n",
      "\n",
      "\n",
      "\n",
      "Encoded Variable Reference (x14_0 = first category of enumerated column 14 [failures] below):\n",
      "\n",
      " {0: 'school', 1: 'sex', 2: 'age', 3: 'address', 4: 'famsize', 5: 'Pstatus', 6: 'Medu', 7: 'Fedu', 8: 'Mjob', 9: 'Fjob', 10: 'reason', 11: 'guardian', 12: 'traveltime', 13: 'studytime', 14: 'failures', 15: 'schoolsup', 16: 'famsup', 17: 'paid', 18: 'activities', 19: 'nursery', 20: 'higher', 21: 'internet', 22: 'romantic', 23: 'famrel', 24: 'freetime', 25: 'goout', 26: 'Dalc', 27: 'Walc', 28: 'health', 29: 'absences'}\n"
     ]
    }
   ],
   "source": [
    "feat_logit = pass_predict_cv.best_estimator_.named_steps.logit.coef_\n",
    "feat_odds = np.exp(feat_logit[0])\n",
    "feat_columns = pass_predict_cv.best_estimator_.named_steps.ohe.get_feature_names()\n",
    "feat_zip = zip(feat_odds, feat_columns)\n",
    "feat_list = list(feat_zip)\n",
    "feat_list.sort(reverse=True)\n",
    "print('Top Five Feature Odds:\\n\\n', \n",
    "      feat_list[:5], \n",
    "      '\\n\\n\\n')\n",
    "print('Encoded Variable Reference (x14_0 = first category of enumerated column 14 [failures] below):\\n\\n', \n",
    "      dict(enumerate(df.drop(['G1', 'G2', 'G3', 'improved', 'passed'], axis=1).columns)))"
   ]
  },
  {
   "cell_type": "markdown",
   "metadata": {},
   "source": [
    "# Random Forest Regressor"
   ]
  },
  {
   "cell_type": "code",
   "execution_count": 21,
   "metadata": {},
   "outputs": [
    {
     "name": "stdout",
     "output_type": "stream",
     "text": [
      "Tuned RandomForest estimators: {'rfr__n_estimators': 190}\n",
      "Tuned RandomForest mean squared error: -9.671489460181723\n",
      "3.1099018409238774\n"
     ]
    }
   ],
   "source": [
    "# Setup the pipeline steps: steps\n",
    "steps = [('ohe', OneHotEncoder(categories=categories)),\n",
    "         ('rfr', RandomForestRegressor(max_depth=20, criterion='mse'))]\n",
    "\n",
    "# Create the pipeline: pipeline \n",
    "pipeline = Pipeline(steps)\n",
    "\n",
    "# Specify the hyperparameter space\n",
    "parameters = {'rfr__n_estimators': np.arange(100, 300, 10)}\n",
    "\n",
    "# Create train and test sets\n",
    "X_train, X_test, y_train, y_test = train_test_split(X, y, test_size=0.3, random_state=0)\n",
    "\n",
    "# Create the GridSearchCV object: yeg_cv\n",
    "reg_predict_cv = GridSearchCV(pipeline, param_grid=parameters, scoring='neg_mean_squared_error', cv=10, iid=False)\n",
    "\n",
    "# Fit to the training set\n",
    "reg_predict_cv.fit(X_train, y_train)\n",
    "\n",
    "# Compute and print the metrics\n",
    "mse = reg_predict_cv.score(X_test, y_test)\n",
    "print(\"Tuned RandomForest estimators: {}\".format(reg_predict_cv.best_params_))\n",
    "print(\"Tuned RandomForest mean squared error: {}\".format(mse))\n",
    "print(np.sqrt(abs(mse)))"
   ]
  },
  {
   "cell_type": "code",
   "execution_count": 22,
   "metadata": {},
   "outputs": [],
   "source": [
    "x_axis = reg_predict_cv.predict(X_test)\n",
    "y_axis = y_test"
   ]
  },
  {
   "cell_type": "code",
   "execution_count": 23,
   "metadata": {},
   "outputs": [
    {
     "data": {
      "image/png": "[encoded data removed]",
      "text/plain": [
       "<Figure size 1080x720 with 1 Axes>"
      ]
     },
     "metadata": {
      "needs_background": "light"
     },
     "output_type": "display_data"
    }
   ],
   "source": [
    "fig = plt.figure(figsize=(15,10))\n",
    "plt.scatter(x_axis, y_axis, alpha=0.8)\n",
    "plt.xlabel('Predicted Value')\n",
    "plt.ylabel('Actual Value')\n",
    "plt.title('Predicted vs. Actual Grades')\n",
    "plt.show()"
   ]
  },
  {
   "cell_type": "code",
   "execution_count": 24,
   "metadata": {},
   "outputs": [
    {
     "name": "stdout",
     "output_type": "stream",
     "text": [
      "Top Five Feature Importances:\n",
      "\n",
      " [(0.0690520541806033, 'x14_0'), (0.04730028183360562, 'x9_teacher'), (0.033034608485599894, 'x27_1'), (0.028464528256667655, 'x28_1'), (0.020027788687599236, 'x8_services')] \n",
      "\n",
      "\n",
      "\n",
      "Encoded Variable Reference (x14_0 = first category of enumerated column 14 [failures] below):\n",
      "\n",
      " {0: 'school', 1: 'sex', 2: 'age', 3: 'address', 4: 'famsize', 5: 'Pstatus', 6: 'Medu', 7: 'Fedu', 8: 'Mjob', 9: 'Fjob', 10: 'reason', 11: 'guardian', 12: 'traveltime', 13: 'studytime', 14: 'failures', 15: 'schoolsup', 16: 'famsup', 17: 'paid', 18: 'activities', 19: 'nursery', 20: 'higher', 21: 'internet', 22: 'romantic', 23: 'famrel', 24: 'freetime', 25: 'goout', 26: 'Dalc', 27: 'Walc', 28: 'health', 29: 'absences'}\n"
     ]
    }
   ],
   "source": [
    "feat_import = reg_predict_cv.best_estimator_.named_steps.rfr.feature_importances_\n",
    "feat_columns = reg_predict_cv.best_estimator_.named_steps.ohe.get_feature_names()\n",
    "feat_zip = zip(feat_import, feat_columns)\n",
    "feat_list = list(feat_zip)\n",
    "feat_list.sort(reverse=True)\n",
    "print('Top Five Feature Importances:\\n\\n', \n",
    "      feat_list[:5], \n",
    "      '\\n\\n\\n')\n",
    "print('Encoded Variable Reference (x14_0 = first category of enumerated column 14 [failures] below):\\n\\n', \n",
    "      dict(enumerate(df.drop(['G1', 'G2', 'G3', 'improved', 'passed'], axis=1).columns)))"
   ]
  },
  {
   "cell_type": "code",
   "execution_count": 36,
   "metadata": {},
   "outputs": [
    {
     "name": "stdout",
     "output_type": "stream",
     "text": [
      "(357, 30) (357,)\n"
     ]
    }
   ],
   "source": [
    "X3 = df.drop(['G2', 'G3', 'passed', 'improved'], axis=1).values\n",
    "y = df.G3.values\n",
    "print(X.shape, y.shape)"
   ]
  },
  {
   "cell_type": "code",
   "execution_count": 37,
   "metadata": {},
   "outputs": [
    {
     "name": "stdout",
     "output_type": "stream",
     "text": [
      "Tuned RandomForest estimators: {'rfr2__n_estimators': 200}\n",
      "Tuned RandomForest mean squared error: -2.4991515582404396\n",
      "1.5808705064743411\n"
     ]
    }
   ],
   "source": [
    "# Setup the pipeline steps: steps\n",
    "steps = [('ohe', OneHotEncoder(categories=categories3)),\n",
    "         ('rfr2', RandomForestRegressor(max_depth=20, criterion='mse'))]\n",
    "\n",
    "# Create the pipeline: pipeline \n",
    "pipeline = Pipeline(steps)\n",
    "\n",
    "# Specify the hyperparameter space\n",
    "parameters = {'rfr2__n_estimators': np.arange(150, 250, 10)}\n",
    "\n",
    "# Create train and test sets\n",
    "X_train, X_test, y_train, y_test = train_test_split(X3, y, test_size=0.3, random_state=0)\n",
    "\n",
    "# Create the GridSearchCV object: yeg_cv\n",
    "first_predict_cv = GridSearchCV(pipeline, param_grid=parameters, scoring='neg_mean_squared_error', cv=10, iid=False)\n",
    "\n",
    "# Fit to the training set\n",
    "first_predict_cv.fit(X_train, y_train)\n",
    "\n",
    "# Compute and print the metrics\n",
    "mse = first_predict_cv.score(X_test, y_test)\n",
    "print(\"Tuned RandomForest estimators: {}\".format(first_predict_cv.best_params_))\n",
    "print(\"Tuned RandomForest mean squared error: {}\".format(mse))\n",
    "print(np.sqrt(abs(mse)))"
   ]
  },
  {
   "cell_type": "code",
   "execution_count": 38,
   "metadata": {},
   "outputs": [],
   "source": [
    "x1_axis = first_predict_cv.predict(X_test)\n",
    "y_axis = y_test"
   ]
  },
  {
   "cell_type": "code",
   "execution_count": 39,
   "metadata": {},
   "outputs": [
    {
     "data": {
      "image/png": "[encoded data removed]",
      "text/plain": [
       "<Figure size 1080x720 with 1 Axes>"
      ]
     },
     "metadata": {
      "needs_background": "light"
     },
     "output_type": "display_data"
    }
   ],
   "source": [
    "fig = plt.figure(figsize=(15,10))\n",
    "plt.scatter(x1_axis, y_axis, alpha=0.8)\n",
    "plt.xlabel('Predicted Value')\n",
    "plt.ylabel('Actual Value')\n",
    "plt.title('Predicted vs. Actual Grades after Period One')\n",
    "plt.show()"
   ]
  },
  {
   "cell_type": "code",
   "execution_count": 42,
   "metadata": {},
   "outputs": [
    {
     "name": "stdout",
     "output_type": "stream",
     "text": [
      "Top Five Feature Importances:\n",
      "\n",
      " [(0.12707853300076352, 'x30_16'), (0.09409422669294563, 'x30_17'), (0.08808605204450934, 'x30_18'), (0.0766047791847058, 'x30_15'), (0.06701162900687628, 'x30_19')] \n",
      "\n",
      "\n",
      "\n",
      "Encoded Variable Reference (x14_0 = first category of enumerated column 14 [failures] below):\n",
      "\n",
      " {0: 'school', 1: 'sex', 2: 'age', 3: 'address', 4: 'famsize', 5: 'Pstatus', 6: 'Medu', 7: 'Fedu', 8: 'Mjob', 9: 'Fjob', 10: 'reason', 11: 'guardian', 12: 'traveltime', 13: 'studytime', 14: 'failures', 15: 'schoolsup', 16: 'famsup', 17: 'paid', 18: 'activities', 19: 'nursery', 20: 'higher', 21: 'internet', 22: 'romantic', 23: 'famrel', 24: 'freetime', 25: 'goout', 26: 'Dalc', 27: 'Walc', 28: 'health', 29: 'absences', 30: 'G1'}\n"
     ]
    }
   ],
   "source": [
    "feat_import = first_predict_cv.best_estimator_.named_steps.rfr2.feature_importances_\n",
    "feat_columns = first_predict_cv.best_estimator_.named_steps.ohe.get_feature_names()\n",
    "feat_zip = zip(feat_import, feat_columns)\n",
    "feat_list = list(feat_zip)\n",
    "feat_list.sort(reverse=True)\n",
    "print('Top Five Feature Importances:\\n\\n', \n",
    "      feat_list[:5], \n",
    "      '\\n\\n\\n')\n",
    "print('Encoded Variable Reference (x14_0 = first category of enumerated column 14 [failures] below):\\n\\n', \n",
    "      dict(enumerate(df.drop(['G2', 'G3', 'improved', 'passed'], axis=1).columns)))"
   ]
  },
  {
   "cell_type": "code",
   "execution_count": 29,
   "metadata": {},
   "outputs": [
    {
     "name": "stdout",
     "output_type": "stream",
     "text": [
      "(357, 30) (357,)\n"
     ]
    }
   ],
   "source": [
    "X2 = df.drop(['G3', 'passed'], axis=1).values\n",
    "y = df.G3.values\n",
    "print(X.shape, y.shape)"
   ]
  },
  {
   "cell_type": "code",
   "execution_count": 30,
   "metadata": {},
   "outputs": [
    {
     "name": "stdout",
     "output_type": "stream",
     "text": [
      "Tuned RandomForest estimators: {'rfr__n_estimators': 180}\n",
      "Tuned RandomForest mean squared error: -0.9914300610024781\n",
      "0.9957058104693766\n"
     ]
    }
   ],
   "source": [
    "# Setup the pipeline steps: steps\n",
    "steps = [('ohe', OneHotEncoder(categories=categories2)),\n",
    "         ('rfr', RandomForestRegressor(max_depth=20, criterion='mse'))]\n",
    "\n",
    "# Create the pipeline: pipeline \n",
    "pipeline = Pipeline(steps)\n",
    "\n",
    "# Specify the hyperparameter space\n",
    "parameters = {'rfr__n_estimators': np.arange(150, 250, 10)}\n",
    "\n",
    "# Create train and test sets\n",
    "X_train, X_test, y_train, y_test = train_test_split(X2, y, test_size=0.3, random_state=0)\n",
    "\n",
    "# Create the GridSearchCV object: yeg_cv\n",
    "second_predict_cv = GridSearchCV(pipeline, param_grid=parameters, scoring='neg_mean_squared_error', cv=10, iid=False)\n",
    "\n",
    "# Fit to the training set\n",
    "second_predict_cv.fit(X_train, y_train)\n",
    "\n",
    "# Compute and print the metrics\n",
    "mse = second_predict_cv.score(X_test, y_test)\n",
    "print(\"Tuned RandomForest estimators: {}\".format(second_predict_cv.best_params_))\n",
    "print(\"Tuned RandomForest mean squared error: {}\".format(mse))\n",
    "print(np.sqrt(abs(mse)))"
   ]
  },
  {
   "cell_type": "code",
   "execution_count": 31,
   "metadata": {},
   "outputs": [],
   "source": [
    "x1_axis = second_predict_cv.predict(X_test)\n",
    "y_axis = y_test"
   ]
  },
  {
   "cell_type": "code",
   "execution_count": 32,
   "metadata": {},
   "outputs": [
    {
     "data": {
      "image/png": "[encoded data removed]",
      "text/plain": [
       "<Figure size 1080x720 with 1 Axes>"
      ]
     },
     "metadata": {
      "needs_background": "light"
     },
     "output_type": "display_data"
    }
   ],
   "source": [
    "fig = plt.figure(figsize=(15,10))\n",
    "plt.scatter(x1_axis, y_axis, alpha=0.8)\n",
    "plt.xlabel('Predicted Value')\n",
    "plt.ylabel('Actual Value')\n",
    "plt.title('Predicted vs. Actual Grades after Second Period')\n",
    "plt.show()"
   ]
  },
  {
   "cell_type": "code",
   "execution_count": 43,
   "metadata": {},
   "outputs": [
    {
     "name": "stdout",
     "output_type": "stream",
     "text": [
      "Top Five Feature Importances:\n",
      "\n",
      " [(0.17530680990977002, 'x31_18'), (0.15885692997484877, 'x31_15'), (0.08705787236662059, 'x31_16'), (0.06536616902251699, 'x31_14'), (0.06045760726108385, 'x31_13')] \n",
      "\n",
      "\n",
      "\n",
      "Encoded Variable Reference (x14_0 = first category of enumerated column 14 [failures] below):\n",
      "\n",
      " {0: 'school', 1: 'sex', 2: 'age', 3: 'address', 4: 'famsize', 5: 'Pstatus', 6: 'Medu', 7: 'Fedu', 8: 'Mjob', 9: 'Fjob', 10: 'reason', 11: 'guardian', 12: 'traveltime', 13: 'studytime', 14: 'failures', 15: 'schoolsup', 16: 'famsup', 17: 'paid', 18: 'activities', 19: 'nursery', 20: 'higher', 21: 'internet', 22: 'romantic', 23: 'famrel', 24: 'freetime', 25: 'goout', 26: 'Dalc', 27: 'Walc', 28: 'health', 29: 'absences', 30: 'G1', 31: 'G2', 32: 'improved'}\n"
     ]
    }
   ],
   "source": [
    "feat_import = second_predict_cv.best_estimator_.named_steps.rfr.feature_importances_\n",
    "feat_columns = second_predict_cv.best_estimator_.named_steps.ohe.get_feature_names()\n",
    "feat_zip = zip(feat_import, feat_columns)\n",
    "feat_list = list(feat_zip)\n",
    "feat_list.sort(reverse=True)\n",
    "print('Top Five Feature Importances:\\n\\n', \n",
    "      feat_list[:5], \n",
    "      '\\n\\n\\n')\n",
    "print('Encoded Variable Reference (x14_0 = first category of enumerated column 14 [failures] below):\\n\\n', \n",
    "      dict(enumerate(df.drop(['G3', 'passed'], axis=1).columns)))"
   ]
  },
  {
   "cell_type": "markdown",
   "metadata": {},
   "source": [
    "# Ordinal Logistic Regression"
   ]
  },
  {
   "cell_type": "code",
   "execution_count": 33,
   "metadata": {},
   "outputs": [],
   "source": [
    "from mord import LogisticIT"
   ]
  },
  {
   "cell_type": "code",
   "execution_count": 34,
   "metadata": {},
   "outputs": [
    {
     "name": "stdout",
     "output_type": "stream",
     "text": [
      "Tuned LogisticIT estimators: {'lit__alpha': 4.800000000000001}\n",
      "Tuned LogisticIT mean squared error: -11.88888888888889\n",
      "3.4480268109295333\n"
     ]
    }
   ],
   "source": [
    "# Setup the pipeline steps: steps\n",
    "steps = [('ohe', OneHotEncoder(categories=categories)),\n",
    "         ('lit', LogisticIT())]\n",
    "\n",
    "# Create the pipeline: pipeline \n",
    "pipeline = Pipeline(steps)\n",
    "\n",
    "# Specify the hyperparameter space\n",
    "parameters = {'lit__alpha': np.arange(0, 5, 0.1)}\n",
    "\n",
    "# Create train and test sets\n",
    "X_train, X_test, y_train, y_test = train_test_split(X, y, test_size=0.3, random_state=0)\n",
    "\n",
    "# Create the GridSearchCV object: yeg_cv\n",
    "pass_predict_cv = GridSearchCV(pipeline, param_grid=parameters, scoring='neg_mean_squared_error', cv=10, iid=False)\n",
    "\n",
    "# Fit to the training set\n",
    "pass_predict_cv.fit(X_train, y_train)\n",
    "\n",
    "# Compute and print the metrics\n",
    "mse = pass_predict_cv.score(X_test, y_test)\n",
    "print(\"Tuned LogisticIT estimators: {}\".format(pass_predict_cv.best_params_))\n",
    "print(\"Tuned LogisticIT mean squared error: {}\".format(mse))\n",
    "print(np.sqrt(abs(mse)))"
   ]
  },
  {
   "cell_type": "code",
   "execution_count": 46,
   "metadata": {},
   "outputs": [
    {
     "name": "stdout",
     "output_type": "stream",
     "text": [
      "Top Five Feature Odds:\n",
      "\n",
      " [(1.3224564797728855, 'x14_0'), (1.3019827363932386, 'x9_teacher'), (1.1812239475983604, 'x8_health'), (1.1769807681623254, 'x25_2'), (1.1752383377750861, 'x28_1')] \n",
      "\n",
      "\n",
      "\n",
      "Encoded Variable Reference (x14_0 = first category of enumerated column 14 [failures] below):\n",
      "\n",
      " {0: 'school', 1: 'sex', 2: 'age', 3: 'address', 4: 'famsize', 5: 'Pstatus', 6: 'Medu', 7: 'Fedu', 8: 'Mjob', 9: 'Fjob', 10: 'reason', 11: 'guardian', 12: 'traveltime', 13: 'studytime', 14: 'failures', 15: 'schoolsup', 16: 'famsup', 17: 'paid', 18: 'activities', 19: 'nursery', 20: 'higher', 21: 'internet', 22: 'romantic', 23: 'famrel', 24: 'freetime', 25: 'goout', 26: 'Dalc', 27: 'Walc', 28: 'health', 29: 'absences'}\n"
     ]
    }
   ],
   "source": [
    "feat_lit = pass_predict_cv.best_estimator_.named_steps.lit.coef_\n",
    "feat_odds = np.exp(feat_lit)\n",
    "feat_columns = pass_predict_cv.best_estimator_.named_steps.ohe.get_feature_names()\n",
    "feat_zip = zip(feat_odds, feat_columns)\n",
    "feat_list = list(feat_zip)\n",
    "feat_list.sort(reverse=True)\n",
    "print('Top Five Feature Odds:\\n\\n', \n",
    "      feat_list[:5], \n",
    "      '\\n\\n\\n')\n",
    "print('Encoded Variable Reference (x14_0 = first category of enumerated column 14 [failures] below):\\n\\n', \n",
    "      dict(enumerate(df.drop(['G1', 'G2', 'G3', 'improved', 'passed'], axis=1).columns)))"
   ]
  },
  {
   "cell_type": "code",
   "execution_count": null,
   "metadata": {},
   "outputs": [],
   "source": []
  }
 ],
 "metadata": {
  "kernelspec": {
   "display_name": "Python 3",
   "language": "python",
   "name": "python3"
  },
  "language_info": {
   "codemirror_mode": {
    "name": "ipython",
    "version": 3
   },
   "file_extension": ".py",
   "mimetype": "text/x-python",
   "name": "python",
   "nbconvert_exporter": "python",
   "pygments_lexer": "ipython3",
   "version": "3.6.6"
  }
 },
 "nbformat": 4,
 "nbformat_minor": 2
}
