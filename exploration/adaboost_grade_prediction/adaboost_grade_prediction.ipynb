{
 "cells": [
  {
   "cell_type": "code",
   "execution_count": 1,
   "metadata": {},
   "outputs": [],
   "source": [
    "import pandas as pd\n",
    "import numpy as np\n",
    "from sklearn.ensemble import AdaBoostClassifier, RandomForestRegressor\n",
    "from sklearn.preprocessing import Normalizer, OneHotEncoder\n",
    "from sklearn.pipeline import Pipeline\n",
    "from sklearn.model_selection import train_test_split, GridSearchCV"
   ]
  },
  {
   "cell_type": "code",
   "execution_count": 2,
   "metadata": {},
   "outputs": [
    {
     "name": "stdout",
     "output_type": "stream",
     "text": [
      "(357, 30) (357,)\n"
     ]
    }
   ],
   "source": [
    "df = pd.read_csv('../data_processing/cleaned-data.csv', index_col=0)\n",
    "\n",
    "y = df.G3.values\n",
    "X = df.drop(['G1', 'G2', 'G3', 'improved', 'passed'], axis=1).values\n",
    "\n",
    "categories = [np.array(['GP', 'MS'], dtype=object),\n",
    "                np.array(['F', 'M'], dtype=object),\n",
    "                np.array(np.arange(10, 30, 1), dtype=object),\n",
    "                np.array(['R', 'U'], dtype=object),\n",
    "                np.array(['GT3', 'LE3'], dtype=object),\n",
    "                np.array(['A', 'T'], dtype=object),\n",
    "                np.array([0, 1, 2, 3, 4], dtype=object),\n",
    "                np.array([0, 1, 2, 3, 4], dtype=object),\n",
    "                np.array(['at_home', 'health', 'other', 'services', 'teacher'], dtype=object),\n",
    "                np.array(['at_home', 'health', 'other', 'services', 'teacher'], dtype=object),\n",
    "                np.array(['course', 'home', 'other', 'reputation'], dtype=object),\n",
    "                np.array(['father', 'mother', 'other'], dtype=object),\n",
    "                np.array([1, 2, 3, 4], dtype=object),\n",
    "                np.array([1, 2, 3, 4], dtype=object),\n",
    "                np.array([0, 1, 2, 3], dtype=object),\n",
    "                np.array(['no', 'yes'], dtype=object),\n",
    "                np.array(['no', 'yes'], dtype=object),\n",
    "                np.array(['no', 'yes'], dtype=object),\n",
    "                np.array(['no', 'yes'], dtype=object),\n",
    "                np.array(['no', 'yes'], dtype=object),\n",
    "                np.array(['no', 'yes'], dtype=object),\n",
    "                np.array(['no', 'yes'], dtype=object),\n",
    "                np.array(['no', 'yes'], dtype=object),\n",
    "                np.array([1, 2, 3, 4, 5], dtype=object),\n",
    "                np.array([1, 2, 3, 4, 5], dtype=object),\n",
    "                np.array([1, 2, 3, 4, 5], dtype=object),\n",
    "                np.array([1, 2, 3, 4, 5], dtype=object),\n",
    "                np.array([1, 2, 3, 4, 5], dtype=object),\n",
    "                np.array([1, 2, 3, 4, 5], dtype=object),\n",
    "                np.array(np.arange(0, 100, 1),\n",
    "                dtype=object)]\n",
    "print(X.shape, y.shape)"
   ]
  },
  {
   "cell_type": "code",
   "execution_count": 3,
   "metadata": {},
   "outputs": [
    {
     "name": "stderr",
     "output_type": "stream",
     "text": [
      "/anaconda3/lib/python3.6/site-packages/sklearn/model_selection/_split.py:626: Warning: The least populated class in y has only 1 members, which is too few. The minimum number of members in any class cannot be less than n_splits=5.\n",
      "  % (min_groups, self.n_splits)), Warning)\n",
      "/anaconda3/lib/python3.6/site-packages/sklearn/model_selection/_search.py:841: DeprecationWarning: The default of the `iid` parameter will change from True to False in version 0.22 and will be removed in 0.24. This will change numeric results when test-set sizes are unequal.\n",
      "  DeprecationWarning)\n"
     ]
    },
    {
     "name": "stdout",
     "output_type": "stream",
     "text": [
      "Tuned adaBoost estimators: {'adab__learning_rate': 0.096, 'adab__n_estimators': 600}\n",
      "Tuned adaBoost Mean Squared Error: -17.925925925925927\n",
      "Mean Error: 4.233901974057256\n"
     ]
    }
   ],
   "source": [
    "# Setup the pipeline steps: steps\n",
    "steps = [('ohe', OneHotEncoder(categories=categories)),\n",
    "         ('norm', Normalizer(copy=True, norm='l1')),\n",
    "         ('adab', AdaBoostClassifier(base_estimator=None, algorithm='SAMME.R', random_state=0))]\n",
    "\n",
    "# Create the pipeline: pipeline \n",
    "pipeline = Pipeline(steps)\n",
    "\n",
    "# Specify the hyperparameter space\n",
    "parameters = {'adab__learning_rate': np.arange(0.09, 0.1, 0.001),\n",
    "             'adab__n_estimators': np.arange(500, 1000, 100)}\n",
    "\n",
    "# Create train and test sets\n",
    "X_train, X_test, y_train, y_test = train_test_split(X, y, test_size=0.3, random_state=0)\n",
    "\n",
    "# Create the GridSearchCV object: yeg_cv\n",
    "grade_predict_cv = GridSearchCV(pipeline, param_grid=parameters, scoring='neg_mean_squared_error', cv=5)\n",
    "\n",
    "# Fit to the training set\n",
    "grade_predict_cv.fit(X_train, y_train)\n",
    "\n",
    "# Compute and print the metrics\n",
    "mse = grade_predict_cv.score(X_test, y_test)\n",
    "print(\"Tuned adaBoost estimators: {}\".format(grade_predict_cv.best_params_))\n",
    "print(\"Tuned adaBoost Mean Squared Error: {}\".format(mse))\n",
    "print('Mean Error:', np.sqrt(abs(mse)))"
   ]
  },
  {
   "cell_type": "markdown",
   "metadata": {},
   "source": [
    "# Logistic Regression Model"
   ]
  },
  {
   "cell_type": "code",
   "execution_count": 4,
   "metadata": {},
   "outputs": [],
   "source": [
    "from sklearn.linear_model import LogisticRegression"
   ]
  },
  {
   "cell_type": "code",
   "execution_count": 5,
   "metadata": {},
   "outputs": [
    {
     "name": "stdout",
     "output_type": "stream",
     "text": [
      "[ 6  6 10 15 10]\n"
     ]
    }
   ],
   "source": [
    "y2 = df.passed.values\n",
    "y2.reshape(-1, 1)\n",
    "\n",
    "print(y[0:5])"
   ]
  },
  {
   "cell_type": "code",
   "execution_count": 6,
   "metadata": {},
   "outputs": [
    {
     "name": "stdout",
     "output_type": "stream",
     "text": [
      "Tuned Logistic Regression estimators: {'logit__C': 0.30000000000000004, 'logit__tol': 5e-05}\n",
      "Tuned Logistic Regression Area Under the Curve: 0.6473155827149717\n"
     ]
    },
    {
     "name": "stderr",
     "output_type": "stream",
     "text": [
      "/anaconda3/lib/python3.6/site-packages/sklearn/model_selection/_search.py:841: DeprecationWarning: The default of the `iid` parameter will change from True to False in version 0.22 and will be removed in 0.24. This will change numeric results when test-set sizes are unequal.\n",
      "  DeprecationWarning)\n"
     ]
    }
   ],
   "source": [
    "# Setup the pipeline steps: steps\n",
    "steps = [('ohe', OneHotEncoder(categories=categories)),\n",
    "         ('logit', LogisticRegression(penalty='l2', solver='lbfgs', multi_class='auto'))]\n",
    "\n",
    "# Create the pipeline: pipeline \n",
    "pipeline = Pipeline(steps)\n",
    "\n",
    "# Specify the hyperparameter space\n",
    "parameters = {'logit__C': np.arange(0.1, 2, 0.05),\n",
    "             'logit__tol': np.arange(0.00005, 0.001, 0.0001)}\n",
    "\n",
    "# Create train and test sets\n",
    "X_train, X_test, y_train, y_test = train_test_split(X, y2, test_size=0.3, random_state=0)\n",
    "\n",
    "# Create the GridSearchCV object: yeg_cv\n",
    "pass_predict_cv = GridSearchCV(pipeline, param_grid=parameters, scoring='roc_auc', cv=10)\n",
    "\n",
    "# Fit to the training set\n",
    "pass_predict_cv.fit(X_train, y_train)\n",
    "\n",
    "# Compute and print the metrics\n",
    "auc = pass_predict_cv.score(X_test, y_test)\n",
    "print(\"Tuned Logistic Regression estimators: {}\".format(pass_predict_cv.best_params_))\n",
    "print(\"Tuned Logistic Regression Area Under the Curve: {}\".format(auc))"
   ]
  },
  {
   "cell_type": "code",
   "execution_count": 7,
   "metadata": {},
   "outputs": [
    {
     "data": {
      "image/png": "[encoded data removed]",
      "text/plain": [
       "<Figure size 1080x720 with 1 Axes>"
      ]
     },
     "metadata": {
      "needs_background": "light"
     },
     "output_type": "display_data"
    }
   ],
   "source": [
    "import matplotlib.pyplot as plt\n",
    "%matplotlib inline\n",
    "\n",
    "x_axis = pass_predict_cv.predict_proba(X_test)\n",
    "y_axis = y_test\n",
    "\n",
    "fig = plt.figure(figsize=(15,10))\n",
    "plt.scatter(x_axis[:, 1], y_axis)\n",
    "plt.xlabel('Predicted Pass Probability')\n",
    "plt.ylabel('Actual Value')\n",
    "plt.title('Predicted vs. Actual Grade Predictions')\n",
    "\n",
    "plt.show()"
   ]
  },
  {
   "cell_type": "markdown",
   "metadata": {},
   "source": [
    "# Random Forest Regressor"
   ]
  },
  {
   "cell_type": "code",
   "execution_count": 8,
   "metadata": {},
   "outputs": [
    {
     "name": "stderr",
     "output_type": "stream",
     "text": [
      "/anaconda3/lib/python3.6/site-packages/sklearn/model_selection/_search.py:841: DeprecationWarning: The default of the `iid` parameter will change from True to False in version 0.22 and will be removed in 0.24. This will change numeric results when test-set sizes are unequal.\n",
      "  DeprecationWarning)\n"
     ]
    },
    {
     "name": "stdout",
     "output_type": "stream",
     "text": [
      "Tuned RandomForest estimators: {'rfr__n_estimators': 150}\n",
      "Tuned RandomForest mean squared error: -9.92986530303067\n",
      "3.1511688788496675\n"
     ]
    }
   ],
   "source": [
    "# Setup the pipeline steps: steps\n",
    "steps = [('ohe', OneHotEncoder(categories=categories)),\n",
    "         ('rfr', RandomForestRegressor(max_depth=20, criterion='mse'))]\n",
    "\n",
    "# Create the pipeline: pipeline \n",
    "pipeline = Pipeline(steps)\n",
    "\n",
    "# Specify the hyperparameter space\n",
    "parameters = {'rfr__n_estimators': np.arange(100, 300, 10)}\n",
    "\n",
    "# Create train and test sets\n",
    "X_train, X_test, y_train, y_test = train_test_split(X, y, test_size=0.3, random_state=0)\n",
    "\n",
    "# Create the GridSearchCV object: yeg_cv\n",
    "reg_predict_cv = GridSearchCV(pipeline, param_grid=parameters, scoring='neg_mean_squared_error', cv=10)\n",
    "\n",
    "# Fit to the training set\n",
    "reg_predict_cv.fit(X_train, y_train)\n",
    "\n",
    "# Compute and print the metrics\n",
    "mse = reg_predict_cv.score(X_test, y_test)\n",
    "print(\"Tuned RandomForest estimators: {}\".format(reg_predict_cv.best_params_))\n",
    "print(\"Tuned RandomForest mean squared error: {}\".format(mse))\n",
    "print(np.sqrt(abs(mse)))"
   ]
  },
  {
   "cell_type": "code",
   "execution_count": 9,
   "metadata": {},
   "outputs": [],
   "source": [
    "x_axis = reg_predict_cv.predict(X_test)\n",
    "y_axis = y_test"
   ]
  },
  {
   "cell_type": "code",
   "execution_count": 10,
   "metadata": {},
   "outputs": [
    {
     "data": {
      "image/png": "[encoded data removed]",
      "text/plain": [
       "<Figure size 1080x720 with 1 Axes>"
      ]
     },
     "metadata": {
      "needs_background": "light"
     },
     "output_type": "display_data"
    }
   ],
   "source": [
    "fig = plt.figure(figsize=(15,10))\n",
    "plt.scatter(x_axis, y_axis, alpha=0.8)\n",
    "plt.xlabel('Predicted Value')\n",
    "plt.ylabel('Actual Value')\n",
    "plt.title('Predicted vs. Actual Grades')\n",
    "plt.show()"
   ]
  },
  {
   "cell_type": "code",
   "execution_count": 11,
   "metadata": {},
   "outputs": [
    {
     "name": "stdout",
     "output_type": "stream",
     "text": [
      "(357, 30) (357,)\n"
     ]
    }
   ],
   "source": [
    "X3 = df.drop(['G2', 'G3', 'passed', 'improved'], axis=1).values\n",
    "y = df.G3.values\n",
    "print(X.shape, y.shape)\n",
    "\n",
    "categories3 = [np.array(['GP', 'MS'], dtype=object),\n",
    "                np.array(['F', 'M'], dtype=object),\n",
    "                np.array(np.arange(10, 30, 1), dtype=object),\n",
    "                np.array(['R', 'U'], dtype=object),\n",
    "                np.array(['GT3', 'LE3'], dtype=object),\n",
    "                np.array(['A', 'T'], dtype=object),\n",
    "                np.array([0, 1, 2, 3, 4], dtype=object),\n",
    "                np.array([0, 1, 2, 3, 4], dtype=object),\n",
    "                np.array(['at_home', 'health', 'other', 'services', 'teacher'], dtype=object),\n",
    "                np.array(['at_home', 'health', 'other', 'services', 'teacher'], dtype=object),\n",
    "                np.array(['course', 'home', 'other', 'reputation'], dtype=object),\n",
    "                np.array(['father', 'mother', 'other'], dtype=object),\n",
    "                np.array([1, 2, 3, 4], dtype=object),\n",
    "                np.array([1, 2, 3, 4], dtype=object),\n",
    "                np.array([0, 1, 2, 3], dtype=object),\n",
    "                np.array(['no', 'yes'], dtype=object),\n",
    "                np.array(['no', 'yes'], dtype=object),\n",
    "                np.array(['no', 'yes'], dtype=object),\n",
    "                np.array(['no', 'yes'], dtype=object),\n",
    "                np.array(['no', 'yes'], dtype=object),\n",
    "                np.array(['no', 'yes'], dtype=object),\n",
    "                np.array(['no', 'yes'], dtype=object),\n",
    "                np.array(['no', 'yes'], dtype=object),\n",
    "                np.array([1, 2, 3, 4, 5], dtype=object),\n",
    "                np.array([1, 2, 3, 4, 5], dtype=object),\n",
    "                np.array([1, 2, 3, 4, 5], dtype=object),\n",
    "                np.array([1, 2, 3, 4, 5], dtype=object),\n",
    "                np.array([1, 2, 3, 4, 5], dtype=object),\n",
    "                np.array([1, 2, 3, 4, 5], dtype=object),\n",
    "                np.array(np.arange(0, 100, 1),\n",
    "                   dtype=object),\n",
    "                np.array(np.arange(0, 20, 1),\n",
    "                   dtype=object)]"
   ]
  },
  {
   "cell_type": "code",
   "execution_count": 12,
   "metadata": {},
   "outputs": [
    {
     "name": "stderr",
     "output_type": "stream",
     "text": [
      "/anaconda3/lib/python3.6/site-packages/sklearn/model_selection/_search.py:841: DeprecationWarning: The default of the `iid` parameter will change from True to False in version 0.22 and will be removed in 0.24. This will change numeric results when test-set sizes are unequal.\n",
      "  DeprecationWarning)\n"
     ]
    },
    {
     "name": "stdout",
     "output_type": "stream",
     "text": [
      "Tuned RandomForest estimators: {'rfr__n_estimators': 170}\n",
      "Tuned RandomForest mean squared error: -2.4973872553083627\n",
      "1.5803123916834807\n"
     ]
    }
   ],
   "source": [
    "# Setup the pipeline steps: steps\n",
    "steps = [('ohe', OneHotEncoder(categories=categories3)),\n",
    "         ('rfr', RandomForestRegressor(max_depth=20, criterion='mse'))]\n",
    "\n",
    "# Create the pipeline: pipeline \n",
    "pipeline = Pipeline(steps)\n",
    "\n",
    "# Specify the hyperparameter space\n",
    "parameters = {'rfr__n_estimators': np.arange(150, 250, 10)}\n",
    "\n",
    "# Create train and test sets\n",
    "X_train, X_test, y_train, y_test = train_test_split(X3, y, test_size=0.3, random_state=0)\n",
    "\n",
    "# Create the GridSearchCV object: yeg_cv\n",
    "first_predict_cv = GridSearchCV(pipeline, param_grid=parameters, scoring='neg_mean_squared_error', cv=10)\n",
    "\n",
    "# Fit to the training set\n",
    "first_predict_cv.fit(X_train, y_train)\n",
    "\n",
    "# Compute and print the metrics\n",
    "mse = first_predict_cv.score(X_test, y_test)\n",
    "print(\"Tuned RandomForest estimators: {}\".format(first_predict_cv.best_params_))\n",
    "print(\"Tuned RandomForest mean squared error: {}\".format(mse))\n",
    "print(np.sqrt(abs(mse)))"
   ]
  },
  {
   "cell_type": "code",
   "execution_count": 13,
   "metadata": {},
   "outputs": [],
   "source": [
    "x1_axis = first_predict_cv.predict(X_test)\n",
    "y_axis = y_test"
   ]
  },
  {
   "cell_type": "code",
   "execution_count": 14,
   "metadata": {},
   "outputs": [
    {
     "data": {
      "image/png": "[encoded data removed]",
      "text/plain": [
       "<Figure size 1080x720 with 1 Axes>"
      ]
     },
     "metadata": {
      "needs_background": "light"
     },
     "output_type": "display_data"
    }
   ],
   "source": [
    "fig = plt.figure(figsize=(15,10))\n",
    "plt.scatter(x1_axis, y_axis, alpha=0.8)\n",
    "plt.xlabel('Predicted Value')\n",
    "plt.ylabel('Actual Value')\n",
    "plt.title('Predicted vs. Actual Grades after Period One')\n",
    "plt.show()"
   ]
  },
  {
   "cell_type": "code",
   "execution_count": 15,
   "metadata": {},
   "outputs": [
    {
     "name": "stdout",
     "output_type": "stream",
     "text": [
      "(357, 30) (357,)\n"
     ]
    }
   ],
   "source": [
    "X2 = df.drop(['G3', 'passed'], axis=1).values\n",
    "y = df.G3.values\n",
    "print(X.shape, y.shape)\n",
    "\n",
    "categories2 = [np.array(['GP', 'MS'], dtype=object),\n",
    "                np.array(['F', 'M'], dtype=object),\n",
    "                np.array(np.arange(10, 30, 1), dtype=object),\n",
    "                np.array(['R', 'U'], dtype=object),\n",
    "                np.array(['GT3', 'LE3'], dtype=object),\n",
    "                np.array(['A', 'T'], dtype=object),\n",
    "                np.array([0, 1, 2, 3, 4], dtype=object),\n",
    "                np.array([0, 1, 2, 3, 4], dtype=object),\n",
    "                np.array(['at_home', 'health', 'other', 'services', 'teacher'], dtype=object),\n",
    "                np.array(['at_home', 'health', 'other', 'services', 'teacher'], dtype=object),\n",
    "                np.array(['course', 'home', 'other', 'reputation'], dtype=object),\n",
    "                np.array(['father', 'mother', 'other'], dtype=object),\n",
    "                np.array([1, 2, 3, 4], dtype=object),\n",
    "                np.array([1, 2, 3, 4], dtype=object),\n",
    "                np.array([0, 1, 2, 3], dtype=object),\n",
    "                np.array(['no', 'yes'], dtype=object),\n",
    "                np.array(['no', 'yes'], dtype=object),\n",
    "                np.array(['no', 'yes'], dtype=object),\n",
    "                np.array(['no', 'yes'], dtype=object),\n",
    "                np.array(['no', 'yes'], dtype=object),\n",
    "                np.array(['no', 'yes'], dtype=object),\n",
    "                np.array(['no', 'yes'], dtype=object),\n",
    "                np.array(['no', 'yes'], dtype=object),\n",
    "                np.array([1, 2, 3, 4, 5], dtype=object),\n",
    "                np.array([1, 2, 3, 4, 5], dtype=object),\n",
    "                np.array([1, 2, 3, 4, 5], dtype=object),\n",
    "                np.array([1, 2, 3, 4, 5], dtype=object),\n",
    "                np.array([1, 2, 3, 4, 5], dtype=object),\n",
    "                np.array([1, 2, 3, 4, 5], dtype=object),\n",
    "                np.array(np.arange(0, 100, 1),\n",
    "                   dtype=object),\n",
    "                np.array(np.arange(0, 20, 1),\n",
    "                   dtype=object),\n",
    "                np.array(np.arange(0, 20, 1),\n",
    "                   dtype=object),\n",
    "                np.array([0, 1], dtype=object)]"
   ]
  },
  {
   "cell_type": "code",
   "execution_count": 16,
   "metadata": {},
   "outputs": [
    {
     "name": "stderr",
     "output_type": "stream",
     "text": [
      "/anaconda3/lib/python3.6/site-packages/sklearn/model_selection/_search.py:841: DeprecationWarning: The default of the `iid` parameter will change from True to False in version 0.22 and will be removed in 0.24. This will change numeric results when test-set sizes are unequal.\n",
      "  DeprecationWarning)\n"
     ]
    },
    {
     "name": "stdout",
     "output_type": "stream",
     "text": [
      "Tuned RandomForest estimators: {'rfr__n_estimators': 160}\n",
      "Tuned RandomForest mean squared error: -1.0287270332661438\n",
      "1.014261816922112\n"
     ]
    }
   ],
   "source": [
    "# Setup the pipeline steps: steps\n",
    "steps = [('ohe', OneHotEncoder(categories=categories2)),\n",
    "         ('rfr', RandomForestRegressor(max_depth=20, criterion='mse'))]\n",
    "\n",
    "# Create the pipeline: pipeline \n",
    "pipeline = Pipeline(steps)\n",
    "\n",
    "# Specify the hyperparameter space\n",
    "parameters = {'rfr__n_estimators': np.arange(150, 250, 10)}\n",
    "\n",
    "# Create train and test sets\n",
    "X_train, X_test, y_train, y_test = train_test_split(X2, y, test_size=0.3, random_state=0)\n",
    "\n",
    "# Create the GridSearchCV object: yeg_cv\n",
    "second_predict_cv = GridSearchCV(pipeline, param_grid=parameters, scoring='neg_mean_squared_error', cv=10)\n",
    "\n",
    "# Fit to the training set\n",
    "second_predict_cv.fit(X_train, y_train)\n",
    "\n",
    "# Compute and print the metrics\n",
    "mse = second_predict_cv.score(X_test, y_test)\n",
    "print(\"Tuned RandomForest estimators: {}\".format(second_predict_cv.best_params_))\n",
    "print(\"Tuned RandomForest mean squared error: {}\".format(mse))\n",
    "print(np.sqrt(abs(mse)))"
   ]
  },
  {
   "cell_type": "code",
   "execution_count": 17,
   "metadata": {},
   "outputs": [],
   "source": [
    "x1_axis = second_predict_cv.predict(X_test)\n",
    "y_axis = y_test"
   ]
  },
  {
   "cell_type": "code",
   "execution_count": 18,
   "metadata": {},
   "outputs": [
    {
     "data": {
      "image/png": "[encoded data removed]",
      "text/plain": [
       "<Figure size 1080x720 with 1 Axes>"
      ]
     },
     "metadata": {
      "needs_background": "light"
     },
     "output_type": "display_data"
    }
   ],
   "source": [
    "fig = plt.figure(figsize=(15,10))\n",
    "plt.scatter(x1_axis, y_axis, alpha=0.8)\n",
    "plt.xlabel('Predicted Value')\n",
    "plt.ylabel('Actual Value')\n",
    "plt.title('Predicted vs. Actual Grades after Second Period')\n",
    "plt.show()"
   ]
  },
  {
   "cell_type": "markdown",
   "metadata": {},
   "source": [
    "# Ordinal Logistic Regression"
   ]
  },
  {
   "cell_type": "code",
   "execution_count": 19,
   "metadata": {},
   "outputs": [],
   "source": [
    "from mord import LogisticIT"
   ]
  },
  {
   "cell_type": "code",
   "execution_count": 20,
   "metadata": {},
   "outputs": [
    {
     "name": "stderr",
     "output_type": "stream",
     "text": [
      "/anaconda3/lib/python3.6/site-packages/sklearn/model_selection/_search.py:841: DeprecationWarning: The default of the `iid` parameter will change from True to False in version 0.22 and will be removed in 0.24. This will change numeric results when test-set sizes are unequal.\n",
      "  DeprecationWarning)\n"
     ]
    },
    {
     "name": "stdout",
     "output_type": "stream",
     "text": [
      "Tuned LogisticIT estimators: {'lit__alpha': 4.800000000000001}\n",
      "Tuned LogisticIT mean squared error: -11.88888888888889\n",
      "3.4480268109295333\n"
     ]
    }
   ],
   "source": [
    "# Setup the pipeline steps: steps\n",
    "steps = [('ohe', OneHotEncoder(categories=categories)),\n",
    "         ('lit', LogisticIT())]\n",
    "\n",
    "# Create the pipeline: pipeline \n",
    "pipeline = Pipeline(steps)\n",
    "\n",
    "# Specify the hyperparameter space\n",
    "parameters = {'lit__alpha': np.arange(0, 5, 0.1)}\n",
    "\n",
    "# Create train and test sets\n",
    "X_train, X_test, y_train, y_test = train_test_split(X, y, test_size=0.3, random_state=0)\n",
    "\n",
    "# Create the GridSearchCV object: yeg_cv\n",
    "pass_predict_cv = GridSearchCV(pipeline, param_grid=parameters, scoring='neg_mean_squared_error', cv=10)\n",
    "\n",
    "# Fit to the training set\n",
    "pass_predict_cv.fit(X_train, y_train)\n",
    "\n",
    "# Compute and print the metrics\n",
    "mse = pass_predict_cv.score(X_test, y_test)\n",
    "print(\"Tuned LogisticIT estimators: {}\".format(pass_predict_cv.best_params_))\n",
    "print(\"Tuned LogisticIT mean squared error: {}\".format(mse))\n",
    "print(np.sqrt(abs(mse)))"
   ]
  },
  {
   "cell_type": "code",
   "execution_count": null,
   "metadata": {},
   "outputs": [],
   "source": []
  }
 ],
 "metadata": {
  "kernelspec": {
   "display_name": "Python 3",
   "language": "python",
   "name": "python3"
  },
  "language_info": {
   "codemirror_mode": {
    "name": "ipython",
    "version": 3
   },
   "file_extension": ".py",
   "mimetype": "text/x-python",
   "name": "python",
   "nbconvert_exporter": "python",
   "pygments_lexer": "ipython3",
   "version": "3.6.6"
  }
 },
 "nbformat": 4,
 "nbformat_minor": 2
}
