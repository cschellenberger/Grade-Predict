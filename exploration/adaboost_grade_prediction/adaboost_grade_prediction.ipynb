{
 "cells": [
  {
   "cell_type": "code",
   "execution_count": 2,
   "metadata": {},
   "outputs": [],
   "source": [
    "import pandas as pd\n",
    "import numpy as np\n",
    "from sklearn.ensemble import AdaBoostClassifier\n",
    "from sklearn.preprocessing import Normalizer\n",
    "from sklearn.pipeline import Pipeline\n",
    "from sklearn.model_selection import train_test_split, GridSearchCV"
   ]
  },
  {
   "cell_type": "code",
   "execution_count": 3,
   "metadata": {},
   "outputs": [],
   "source": [
    "df = pd.read_csv('../data_processing/cleaned-data.csv', index_col=0)\n",
    "\n",
    "y = df.G3.values\n",
    "y.reshape(-1, 1)\n",
    "X = df.drop(['G1', 'G2', 'G3'], axis=1).values"
   ]
  },
  {
   "cell_type": "code",
   "execution_count": 9,
   "metadata": {},
   "outputs": [
    {
     "name": "stderr",
     "output_type": "stream",
     "text": [
      "/anaconda3/lib/python3.6/site-packages/sklearn/model_selection/_split.py:626: Warning: The least populated class in y has only 1 members, which is too few. The minimum number of members in any class cannot be less than n_splits=3.\n",
      "  % (min_groups, self.n_splits)), Warning)\n",
      "/anaconda3/lib/python3.6/site-packages/sklearn/model_selection/_search.py:841: DeprecationWarning: The default of the `iid` parameter will change from True to False in version 0.22 and will be removed in 0.24. This will change numeric results when test-set sizes are unequal.\n",
      "  DeprecationWarning)\n"
     ]
    },
    {
     "name": "stdout",
     "output_type": "stream",
     "text": [
      "Tuned adaBoost estimators: {'adab__learning_rate': 0.1, 'adab__n_estimators': 1000}\n",
      "Tuned adaBoost Mean Squared Error: -11.601851851851851\n",
      "Mean Error: 3.40614912354874\n"
     ]
    }
   ],
   "source": [
    "# Setup the pipeline steps: steps\n",
    "steps = [('norm', Normalizer(copy=True, norm='l1')),\n",
    "         ('adab', AdaBoostClassifier(base_estimator=None, algorithm='SAMME.R', random_state=0))]\n",
    "\n",
    "# Create the pipeline: pipeline \n",
    "pipeline = Pipeline(steps)\n",
    "\n",
    "# Specify the hyperparameter space\n",
    "parameters = {'adab__learning_rate':(.11, .1, .099),\n",
    "             'adab__n_estimators':(900, 1000, 1100)}\n",
    "\n",
    "# Create train and test sets\n",
    "X_train, X_test, y_train, y_test = train_test_split(X, y, test_size=0.3, random_state=0)\n",
    "\n",
    "# Create the GridSearchCV object: yeg_cv\n",
    "grade_predict_cv = GridSearchCV(pipeline, param_grid=parameters, scoring='neg_mean_squared_error', cv=3)\n",
    "\n",
    "# Fit to the training set\n",
    "grade_predict_cv.fit(X_train, y_train)\n",
    "\n",
    "# Compute and print the metrics\n",
    "mse = grade_predict_cv.score(X_test, y_test)\n",
    "print(\"Tuned adaBoost estimators: {}\".format(grade_predict_cv.best_params_))\n",
    "print(\"Tuned adaBoost Mean Squared Error: {}\".format(mse))\n",
    "print('Mean Error:', np.sqrt(abs(mse)))"
   ]
  }
 ],
 "metadata": {
  "kernelspec": {
   "display_name": "Python 3",
   "language": "python",
   "name": "python3"
  },
  "language_info": {
   "codemirror_mode": {
    "name": "ipython",
    "version": 3
   },
   "file_extension": ".py",
   "mimetype": "text/x-python",
   "name": "python",
   "nbconvert_exporter": "python",
   "pygments_lexer": "ipython3",
   "version": "3.6.6"
  }
 },
 "nbformat": 4,
 "nbformat_minor": 2
}
