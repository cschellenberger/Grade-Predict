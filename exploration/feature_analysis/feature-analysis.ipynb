{
 "cells": [
  {
   "cell_type": "code",
   "execution_count": 1,
   "metadata": {},
   "outputs": [],
   "source": [
    "import pandas as pd"
   ]
  },
  {
   "cell_type": "code",
   "execution_count": 2,
   "metadata": {},
   "outputs": [],
   "source": [
    "df = pd.read_csv('../data_processing/cleaned-data.csv')"
   ]
  },
  {
   "cell_type": "markdown",
   "metadata": {},
   "source": [
    "# Binary Features\n",
    "\n",
    "There are ten binary features in the raw dataset. I will convert these from their descriptive labels to binary `(1, 0)` values for descriptive computational analysis (sum, count, looping) and machine learning. The columns that I will transform are the following:\n",
    "\n",
    "column | description | current values | transformed values\n",
    "-------|-------------|----------------|-------------------\n",
    "school | the school attended by the student | MS and GP | 0 (MS) and 1 (GP)\n",
    "sex | the student's gender | M and F | 0 (M) and 1 (F)\n",
    "address | an urban or rural address | U and R | 0 (U) and 1 (R)\n",
    "famsize | <=3 or >3 in the family | LE3 and GT3 | 0 (LE3) and 1 (GT3)\n",
    "Pstatus | separated or together parents | A and T | 0 (A) and 1 (T)\n",
    "schoolsup | learning after school hours | no and yes | 0 (no) and 1 (yes)\n",
    "famsup | family support at home | no and yes | 0 (no) and 1 (yes)\n",
    "paid | paid tutoring | no and yes | 0 (no) and 1 (yes)\n",
    "activities | extracurricular activities | no and yes | 0 (no) and 1 (yes)\n",
    "nursery | attended nursery school | no and yes | 0 (no) and 1 (yes)\n",
    "higher | planning for higher education | no and yes | 0 (no) and 1 (yes)\n",
    "internet | internet access at home | no and yes | 0 (no) and 1 (yes)\n",
    "romantic | in a romantic relationship | no and yes | 0 (no) and 1 (yes)"
   ]
  },
  {
   "cell_type": "markdown",
   "metadata": {},
   "source": [
    "# Correlated Features\n",
    "\n",
    "`G1` and `G2` are described as period one and two grades. In my experience, these features would correspond to trimester one (G1) and trimester two (G2) grades which lead up to the final grade (G3) for the year. These two features —period one and two grades (G1 & G2)— are highly correlated to the responce variable (G3) because they represent the same grading process and performance metric that we are trying to predict. However, there is a powerful binary feature that can be engineered from these two features (G1 & G2) that gets to the source of improved learning perforance, resiliance, and grit; improved grades from period one to period two.\n",
    "\n",
    "I will engineer a new binary feature that is `0` —for students who had grade depreciation or maintained the same grade from period one to period two— or `1` —for students who improved their grade from period one to period two— and use this new feature to perform statistical analysis and machine learning.\n",
    "\n",
    "    improved = 0, if G1 - G2 >= 0\n",
    "    improved = 1, if G1 - G2 < 0"
   ]
  },
  {
   "cell_type": "code",
   "execution_count": null,
   "metadata": {},
   "outputs": [],
   "source": []
  }
 ],
 "metadata": {
  "kernelspec": {
   "display_name": "grade_predictor",
   "language": "python",
   "name": "grade_predictor"
  },
  "language_info": {
   "codemirror_mode": {
    "name": "ipython",
    "version": 3
   },
   "file_extension": ".py",
   "mimetype": "text/x-python",
   "name": "python",
   "nbconvert_exporter": "python",
   "pygments_lexer": "ipython3",
   "version": "3.6.5"
  }
 },
 "nbformat": 4,
 "nbformat_minor": 2
}
