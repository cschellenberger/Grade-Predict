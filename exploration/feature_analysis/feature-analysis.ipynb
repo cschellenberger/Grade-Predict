{
 "cells": [
  {
   "cell_type": "code",
   "execution_count": 1,
   "metadata": {},
   "outputs": [],
   "source": [
    "import pandas as pd"
   ]
  },
  {
   "cell_type": "code",
   "execution_count": 2,
   "metadata": {},
   "outputs": [
    {
     "name": "stdout",
     "output_type": "stream",
     "text": [
      "2018-11-27T13:33:00-07:00\n",
      "\n",
      "CPython 3.6.5\n",
      "IPython 7.1.1\n",
      "\n",
      "compiler   : GCC 4.2.1 (Apple Inc. build 5666) (dot 3)\n",
      "system     : Darwin\n",
      "release    : 18.2.0\n",
      "machine    : x86_64\n",
      "processor  : i386\n",
      "CPU cores  : 8\n",
      "interpreter: 64bit\n"
     ]
    }
   ],
   "source": [
    "%load_ext watermark\n",
    "%watermark"
   ]
  },
  {
   "cell_type": "code",
   "execution_count": 3,
   "metadata": {},
   "outputs": [],
   "source": [
    "df = pd.read_csv('../data_processing/cleaned-data.csv')"
   ]
  },
  {
   "cell_type": "markdown",
   "metadata": {},
   "source": [
    "# Binary Features\n",
    "\n",
    "There are ten binary features in the raw dataset. I will convert these from their descriptive labels to binary `(1, 0)` values for descriptive computational analysis (sum, count, looping) and machine learning. The columns that I will transform are the following:\n",
    "\n",
    "column | description | current values | transformed values\n",
    "-------|-------------|----------------|-------------------\n",
    "school | the school attended by the student | MS and GP | 0 (MS) and 1 (GP)\n",
    "sex | the student's gender | M and F | 0 (M) and 1 (F)\n",
    "address | an urban or rural address | U and R | 0 (U) and 1 (R)\n",
    "famsize | <=3 or >3 in the family | LE3 and GT3 | 0 (LE3) and 1 (GT3)\n",
    "Pstatus | separated or together parents | A and T | 0 (A) and 1 (T)\n",
    "schoolsup | learning after school hours | no and yes | 0 (no) and 1 (yes)\n",
    "famsup | family support at home | no and yes | 0 (no) and 1 (yes)\n",
    "paid | paid tutoring | no and yes | 0 (no) and 1 (yes)\n",
    "activities | extracurricular activities | no and yes | 0 (no) and 1 (yes)\n",
    "nursery | attended nursery school | no and yes | 0 (no) and 1 (yes)\n",
    "higher | planning for higher education | no and yes | 0 (no) and 1 (yes)\n",
    "internet | internet access at home | no and yes | 0 (no) and 1 (yes)\n",
    "romantic | in a romantic relationship | no and yes | 0 (no) and 1 (yes)"
   ]
  },
  {
   "cell_type": "markdown",
   "metadata": {},
   "source": [
    "# Correlated Features\n",
    "\n",
    "`G1` and `G2` are described as period one and two grades. In my experience, these features would correspond to trimester one (G1) and trimester two (G2) grades which lead up to the final grade (G3) for the year. These two features —period one and two grades (G1 & G2)— are highly correlated to the responce variable (G3) because they represent the same grading process and performance metric that we are trying to predict. However, there is a powerful binary feature that can be engineered from these two features (G1 & G2) that gets to the source of improved learning perforance, resiliance, and grit; improved grades from period one to period two.\n",
    "\n",
    "I will engineer a new binary feature that is `0` —for students who had grade depreciation or maintained the same grade from period one to period two— or `1` —for students who improved their grade from period one to period two— and use this new feature to perform statistical analysis and machine learning.\n",
    "\n",
    "    improved = 0, if G1 - G2 >= 0\n",
    "    improved = 1, if G1 - G2 < 0"
   ]
  },
  {
   "cell_type": "markdown",
   "metadata": {},
   "source": [
    "****\n",
    "\n",
    "# Remaining non-Numeric Features\n",
    "\n",
    "At this point in feature engineering we have 4 non-numeric features; the mother's job (Mjob), the father's job (Fjob), the reason for attending the school (reason), and the student's guardianship status (guardian).\n",
    "\n",
    "The mother's and father's job seem like significantly large categories ('teacher', 'health' care related, civil 'services', 'at_home' or 'other') and the highest percentage of respondents from both genders responded 'other'. There may be some significance in investigating the statistics for 'at_home' leading to a change in the response varible (G3). This could lead to a binary description of at home parents or working. However, there may be some correlation between the parent job columns and the guardian column. If the guardian column is 'other', then the parents may not be a strong presence within the family unit.\n",
    "\n",
    "The reason for choosing the school doesn't naturally lend itself to a binary descriptor. The response choices are, close to 'home', school 'reputation', 'course' preference or 'other'. The hypothesis that I would like to investigate, does a thoughtful decision to attend the school (school 'reputation' or 'course' preference) lead to higher final grades? If we end up rejecting the null hypothesis and except that thoughtfully deciding to attend the school results in significantly higher grades, we can transform this feature to a binary, decided or not.\n",
    "\n",
    "That leaves the guardian status with its input values ('mother', 'father' or 'other'). The hypothesis here would be that any parent guardian —mother or father— results in the same final grade. If we can accept this as true then this feature could also be a binary, parent guardian or not."
   ]
  },
  {
   "cell_type": "markdown",
   "metadata": {},
   "source": [
    "# Confidence interval for mother or father staying home (not leaving home for work) resulting in higher final grades\n",
    "\n",
    "We want to be **99%** confident that having a mother or father at home will increase final grades.\n",
    "\n",
    "    null hypothesis: there is no difference between having either parent at home and having both parents working\n",
    "    alternate hypothesis: there is a significant difference"
   ]
  },
  {
   "cell_type": "code",
   "execution_count": 4,
   "metadata": {},
   "outputs": [
    {
     "name": "stdout",
     "output_type": "stream",
     "text": [
      "at home mean final grade: 10.770491803278688 \n",
      "not at home mean final grade: 11.475783475783476\n",
      "at home final grade standard deviation: 2.8307065828392624 \n",
      "not at home final grade standard deviation: 3.2103572413261\n"
     ]
    }
   ],
   "source": [
    "import numpy as np\n",
    "\n",
    "at_home = df[(df['Mjob']=='at_home') | (df['Fjob']=='at_home')]\n",
    "not_at_home = df[(~(df['Mjob']=='at_home')) | (~(df['Fjob']=='at_home'))]\n",
    "print('at home mean final grade:', np.mean(at_home.G3), \n",
    "      '\\nnot at home mean final grade:', np.mean(not_at_home.G3))\n",
    "print('at home final grade standard deviation:', np.std(at_home.G3), \n",
    "      '\\nnot at home final grade standard deviation:', np.std(not_at_home.G3))"
   ]
  },
  {
   "cell_type": "markdown",
   "metadata": {},
   "source": [
    "# 99% confidence interval function"
   ]
  },
  {
   "cell_type": "code",
   "execution_count": 5,
   "metadata": {},
   "outputs": [],
   "source": [
    "def run_99_percent_confidence_interval(filter_with, filter_without, target_variable):\n",
    "    std_mean_diff = np.sqrt(np.std(filter_with[target_variable]) ** 2 / len(filter_with[target_variable]) \n",
    "                        + np.std(filter_without[target_variable]) ** 2 / len(filter_without[target_variable]))\n",
    "    observed_mean_diff = np.mean(filter_with[target_variable]) - np.mean(filter_without[target_variable])\n",
    "    conf_int = std_mean_diff * 2.58\n",
    "    \n",
    "    print('We are 99% confident that the true difference of means lies between: {:.2f} and {:.2f}'.format(observed_mean_diff - conf_int, observed_mean_diff + conf_int))"
   ]
  },
  {
   "cell_type": "code",
   "execution_count": 6,
   "metadata": {},
   "outputs": [
    {
     "name": "stdout",
     "output_type": "stream",
     "text": [
      "We are 99% confident that the true difference of means lies between: -1.74 and 0.33\n"
     ]
    }
   ],
   "source": [
    "run_99_percent_confidence_interval(at_home, not_at_home, 'G3')"
   ]
  },
  {
   "cell_type": "markdown",
   "metadata": {},
   "source": [
    "# Result\n",
    "\n",
    "The resulting 99% confidence interval includes 0 and therefore we find no significant difference between having a parent at home and not having a parent at home.\n",
    "\n",
    "****"
   ]
  },
  {
   "cell_type": "markdown",
   "metadata": {},
   "source": [
    "# Confidence interval for thoughtful reason to attend school (course offerings or school reputation) resulting in higher final grades\n",
    "\n",
    "We want to be **99%** confident that making a thoughtful decision to attend the school will increase final grades.\n",
    "\n",
    "    null hypothesis: there is no difference between thoughtfully deciding or not\n",
    "    alternate hypothesis: there is a significant difference"
   ]
  },
  {
   "cell_type": "code",
   "execution_count": 7,
   "metadata": {},
   "outputs": [
    {
     "name": "stdout",
     "output_type": "stream",
     "text": [
      "thoughtful mean final grade: 11.528888888888888 \n",
      "not thoughtful mean final grade: 11.523809523809524\n",
      "thoughtful final grade standard deviation: 3.2877295253865952 \n",
      "not thoughtful final grade standard deviation: 3.2232730459867853\n"
     ]
    }
   ],
   "source": [
    "thoughtful = df[(df['reason']=='reputation') | (df['reason']=='course')]\n",
    "not_thoughtful = df[(~(df['reason']=='reputation')) | (~(df['reason']=='course'))]\n",
    "print('thoughtful mean final grade:', np.mean(thoughtful.G3), \n",
    "      '\\nnot thoughtful mean final grade:', np.mean(not_thoughtful.G3))\n",
    "print('thoughtful final grade standard deviation:', np.std(thoughtful.G3), \n",
    "      '\\nnot thoughtful final grade standard deviation:', np.std(not_thoughtful.G3))"
   ]
  },
  {
   "cell_type": "code",
   "execution_count": 8,
   "metadata": {},
   "outputs": [
    {
     "name": "stdout",
     "output_type": "stream",
     "text": [
      "We are 99% confident that the true difference of means lies between: -0.71 and 0.72\n"
     ]
    }
   ],
   "source": [
    "run_99_percent_confidence_interval(thoughtful, not_thoughtful, 'G3')"
   ]
  },
  {
   "cell_type": "markdown",
   "metadata": {},
   "source": [
    "# Result\n",
    "\n",
    "The resulting 99% confidence interval includes 0 and therefore we find no significant difference between thoughfully choosing the school and simply choosing the school because it is close by or another reason.\n",
    "\n",
    "****"
   ]
  },
  {
   "cell_type": "markdown",
   "metadata": {},
   "source": [
    "# Confidence interval for mother guardianship resulting in higher final grades\n",
    "\n",
    "We want to be **99%** confident that having a mother guardian will increase final grades.\n",
    "\n",
    "    null hypothesis: there is no difference between mother and father guardians\n",
    "    alternate hypothesis: there is a significant difference"
   ]
  },
  {
   "cell_type": "code",
   "execution_count": 9,
   "metadata": {},
   "outputs": [
    {
     "name": "stdout",
     "output_type": "stream",
     "text": [
      "mother mean final grade: 11.540322580645162 \n",
      "father mean final grade: 11.731707317073171\n",
      "mother final grade standard deviation: 3.313947051060419 \n",
      "father final grade standard deviation: 3.064544610612524\n"
     ]
    }
   ],
   "source": [
    "mother = df[df['guardian']=='mother']\n",
    "father = df[df['guardian']=='father']\n",
    "print('mother mean final grade:', np.mean(mother.G3), \n",
    "      '\\nfather mean final grade:', np.mean(father.G3))\n",
    "print('mother final grade standard deviation:', np.std(mother.G3), \n",
    "      '\\nfather final grade standard deviation:', np.std(father.G3))"
   ]
  },
  {
   "cell_type": "code",
   "execution_count": 10,
   "metadata": {},
   "outputs": [
    {
     "name": "stdout",
     "output_type": "stream",
     "text": [
      "We are 99% confident that the true difference of means lies between: -1.22 and 0.84\n"
     ]
    }
   ],
   "source": [
    "run_99_percent_confidence_interval(mother, father, 'G3')"
   ]
  },
  {
   "cell_type": "markdown",
   "metadata": {},
   "source": [
    "## Additional look at the parents vs. other"
   ]
  },
  {
   "cell_type": "code",
   "execution_count": 11,
   "metadata": {},
   "outputs": [
    {
     "name": "stdout",
     "output_type": "stream",
     "text": [
      "parent mean final grade: 11.587878787878788 \n",
      "other mean final grade: 11.523809523809524\n",
      "parent final grade standard deviation: 3.2548106657924216 \n",
      "other final grade standard deviation: 3.2232730459867853\n"
     ]
    }
   ],
   "source": [
    "parent = df[(df['guardian']=='mother') | (df['guardian']=='father')]\n",
    "other = df[(~(df['guardian']=='mother')) | (~(df['guardian']=='father'))]\n",
    "print('parent mean final grade:', np.mean(parent.G3), \n",
    "      '\\nother mean final grade:', np.mean(other.G3))\n",
    "print('parent final grade standard deviation:', np.std(parent.G3), \n",
    "      '\\nother final grade standard deviation:', np.std(other.G3))"
   ]
  },
  {
   "cell_type": "code",
   "execution_count": 12,
   "metadata": {},
   "outputs": [
    {
     "name": "stdout",
     "output_type": "stream",
     "text": [
      "We are 99% confident that the true difference of means lies between: -0.57 and 0.70\n"
     ]
    }
   ],
   "source": [
    "run_99_percent_confidence_interval(parent, other, 'G3')"
   ]
  },
  {
   "cell_type": "markdown",
   "metadata": {},
   "source": [
    "# Result\n",
    "\n",
    "The resulting 99% confidence interval includes 0 and therefore we find no significant difference between having a mother, father, or other guardian at home.\n",
    "\n",
    "****\n",
    "\n",
    "### Therefore, we will leave these features without any further engineering."
   ]
  },
  {
   "cell_type": "code",
   "execution_count": null,
   "metadata": {},
   "outputs": [],
   "source": []
  }
 ],
 "metadata": {
  "kernelspec": {
   "display_name": "grade_predictor",
   "language": "python",
   "name": "grade_predictor"
  },
  "language_info": {
   "codemirror_mode": {
    "name": "ipython",
    "version": 3
   },
   "file_extension": ".py",
   "mimetype": "text/x-python",
   "name": "python",
   "nbconvert_exporter": "python",
   "pygments_lexer": "ipython3",
   "version": "3.6.5"
  }
 },
 "nbformat": 4,
 "nbformat_minor": 2
}
