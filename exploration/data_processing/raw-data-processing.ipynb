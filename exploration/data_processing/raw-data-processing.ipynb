{
 "cells": [
  {
   "cell_type": "code",
   "execution_count": 1,
   "metadata": {},
   "outputs": [],
   "source": [
    "# import necessary packages\n",
    "import pandas as pd\n",
    "import os"
   ]
  },
  {
   "cell_type": "code",
   "execution_count": 2,
   "metadata": {},
   "outputs": [],
   "source": [
    "# import raw data\n",
    "raw_data = pd.read_csv('../raw_data/student-mat.csv')"
   ]
  },
  {
   "cell_type": "code",
   "execution_count": 3,
   "metadata": {},
   "outputs": [
    {
     "name": "stdout",
     "output_type": "stream",
     "text": [
      "<class 'pandas.core.series.Series'> <class 'pandas.core.series.Series'>\n"
     ]
    }
   ],
   "source": [
    "# engineer the improved variable\n",
    "period1 = raw_data.G1\n",
    "period2 = raw_data.G2\n",
    "print(type(period1), type(period2))"
   ]
  },
  {
   "cell_type": "code",
   "execution_count": 4,
   "metadata": {},
   "outputs": [],
   "source": [
    "improved_list = []\n",
    "\n",
    "for n in period1 - period2:\n",
    "    if n >= 0:\n",
    "        improved_list.append(0)\n",
    "    else:\n",
    "        improved_list.append(1)\n",
    "\n",
    "raw_data['improved'] = improved_list\n",
    "\n",
    "assert raw_data['improved'].max() == 1 and raw_data['improved'].min() == 0\n",
    "assert len(raw_data['improved']) == 395"
   ]
  },
  {
   "cell_type": "code",
   "execution_count": 5,
   "metadata": {},
   "outputs": [],
   "source": [
    "# Remove missing target variable entries\n",
    "cleaned_data = raw_data[~(raw_data['G3']==0)]\n",
    "\n",
    "assert 0 not in cleaned_data['G3'].values\n",
    "assert len(cleaned_data) == (395 - len(raw_data[raw_data['G3']==0]))"
   ]
  },
  {
   "cell_type": "code",
   "execution_count": 6,
   "metadata": {},
   "outputs": [
    {
     "name": "stdout",
     "output_type": "stream",
     "text": [
      "   G1  G2  G3\n",
      "0   5   6   6\n",
      "1   5   5   6\n",
      "2   7   8  10\n",
      "3  15  14  15\n",
      "4   6  10  10\n",
      "  school sex  age address famsize Pstatus  Medu  Fedu     Mjob      Fjob  \\\n",
      "0     GP   F   18       U     GT3       A     4     4  at_home   teacher   \n",
      "1     GP   F   17       U     GT3       T     1     1  at_home     other   \n",
      "2     GP   F   15       U     LE3       T     1     1  at_home     other   \n",
      "3     GP   F   15       U     GT3       T     4     2   health  services   \n",
      "4     GP   F   16       U     GT3       T     3     3    other     other   \n",
      "\n",
      "    ...    internet romantic  famrel  freetime  goout Dalc Walc health  \\\n",
      "0   ...          no       no       4         3      4    1    1      3   \n",
      "1   ...         yes       no       5         3      3    1    1      3   \n",
      "2   ...         yes       no       4         3      2    2    3      3   \n",
      "3   ...         yes      yes       3         2      2    1    1      5   \n",
      "4   ...          no       no       4         3      2    1    2      5   \n",
      "\n",
      "  absences improved  \n",
      "0        6        1  \n",
      "1        4        0  \n",
      "2       10        1  \n",
      "3        2        0  \n",
      "4        4        1  \n",
      "\n",
      "[5 rows x 31 columns]\n"
     ]
    }
   ],
   "source": [
    "response = cleaned_data.loc[:][['G1', 'G2', 'G3']]\n",
    "dependent = cleaned_data.drop(['G1', 'G2', 'G3'], axis=1)\n",
    "print(response.head())\n",
    "print(dependent.head())"
   ]
  },
  {
   "cell_type": "code",
   "execution_count": 7,
   "metadata": {},
   "outputs": [],
   "source": [
    "class DummyEncoder:\n",
    "    \"\"\"Encode a DataFrame to binary categories\n",
    "    \n",
    "    Parameters\n",
    "    ----------\n",
    "    df : pandas DataFrame to encode\n",
    "    \n",
    "    Methods\n",
    "    -------\n",
    "    fit : for finding the categories to encode using\n",
    "        sklearn.preprocessing.OneHotEncoder\n",
    "    transform : for generating the binary representation of the \n",
    "        encoded categories and dropping the first feature of the \n",
    "        category\n",
    "    fit_transform : for the execution of both the fit and transform \n",
    "        methods\n",
    "        \n",
    "    Returns\n",
    "    -------\n",
    "    a numpy.ndarray of binary values for each encoded category\n",
    "    \"\"\"\n",
    "    \n",
    "    def __init__(self, drop_first=True):\n",
    "        self.num_columns = 0\n",
    "        self.encoders = []\n",
    "        self.drop_first = drop_first\n",
    "        \n",
    "    def fit(self, df):\n",
    "        for i in df.columns:\n",
    "            ohe = OneHotEncoder(categories='auto')\n",
    "            self.num_columns =+ 1\n",
    "            ohe.fit(df[i].values.reshape(-1, 1))\n",
    "            self.encoders.append(ohe)\n",
    "            \n",
    "    def transform(self, df):\n",
    "        results = []\n",
    "        for i, c in enumerate(df.columns):\n",
    "            results.append(self.encoders[i].\\\n",
    "                                transform(df[c].values.reshape(-1, 1)).\\\n",
    "                                toarray()[:,int(self.drop_first):])\n",
    "        return np.hstack(results)\n",
    "    \n",
    "    def fit_transform(self, df):\n",
    "        self.fit(df)\n",
    "        return self.transform(df)"
   ]
  },
  {
   "cell_type": "code",
   "execution_count": 8,
   "metadata": {},
   "outputs": [],
   "source": [
    "from sklearn.preprocessing import OneHotEncoder\n",
    "import numpy as np"
   ]
  },
  {
   "cell_type": "code",
   "execution_count": 9,
   "metadata": {},
   "outputs": [],
   "source": [
    "encoder = DummyEncoder()"
   ]
  },
  {
   "cell_type": "code",
   "execution_count": 10,
   "metadata": {},
   "outputs": [],
   "source": [
    "encoded_data = encoder.fit_transform(dependent)"
   ]
  },
  {
   "cell_type": "code",
   "execution_count": 11,
   "metadata": {},
   "outputs": [
    {
     "data": {
      "text/plain": [
       "numpy.ndarray"
      ]
     },
     "execution_count": 11,
     "metadata": {},
     "output_type": "execute_result"
    }
   ],
   "source": [
    "type(encoded_data)"
   ]
  },
  {
   "cell_type": "code",
   "execution_count": 12,
   "metadata": {},
   "outputs": [
    {
     "data": {
      "text/plain": [
       "(357, 108)"
      ]
     },
     "execution_count": 12,
     "metadata": {},
     "output_type": "execute_result"
    }
   ],
   "source": [
    "encoded_data.shape"
   ]
  },
  {
   "cell_type": "code",
   "execution_count": 13,
   "metadata": {
    "scrolled": true
   },
   "outputs": [
    {
     "data": {
      "text/plain": [
       "(395, 34)"
      ]
     },
     "execution_count": 13,
     "metadata": {},
     "output_type": "execute_result"
    }
   ],
   "source": [
    "raw_data.shape"
   ]
  },
  {
   "cell_type": "code",
   "execution_count": 18,
   "metadata": {},
   "outputs": [
    {
     "data": {
      "text/plain": [
       "array([[0., 0., 0., 0., 1., 0., 0., 0., 0., 1., 0., 0., 0., 0., 0., 1.,\n",
       "        0., 0., 0., 1., 0., 0., 0., 0., 0., 0., 0., 1., 0., 0., 0., 1.,\n",
       "        0., 1., 0., 0., 1., 0., 0., 0., 0., 0., 1., 0., 0., 0., 1., 1.,\n",
       "        0., 0., 0., 0., 1., 0., 0., 1., 0., 0., 0., 0., 1., 0., 0., 0.,\n",
       "        0., 0., 0., 0., 0., 0., 0., 1., 0., 0., 0., 0., 0., 0., 0., 1.,\n",
       "        0., 0., 0., 0., 0., 0., 0., 0., 0., 0., 0., 0., 0., 0., 0., 0.,\n",
       "        0., 0., 0., 0., 0., 0., 0., 0., 0., 0., 0., 1.]])"
      ]
     },
     "execution_count": 18,
     "metadata": {},
     "output_type": "execute_result"
    }
   ],
   "source": [
    "encoded_data[:1][:]"
   ]
  },
  {
   "cell_type": "markdown",
   "metadata": {},
   "source": [
    "```python\n",
    "# convert binary variables to 0 & 1\n",
    "mymap = {'school': {'MS': 0, 'GP': 1},\n",
    "         'sex': {'M': 0, 'F': 1},\n",
    "         'address': {'U': 0, 'R': 1},\n",
    "         'famsize': {'LE3': 0, 'GT3': 1},\n",
    "         'Pstatus': {'A': 0, 'T': 1},\n",
    "         'schoolsup': {'no': 0, 'yes': 1},\n",
    "         'famsup': {'no': 0, 'yes': 1},\n",
    "         'paid': {'no': 0, 'yes': 1},\n",
    "         'activities': {'no': 0, 'yes': 1},\n",
    "         'nursery': {'no': 0, 'yes': 1},\n",
    "         'higher': {'no': 0, 'yes': 1},\n",
    "         'internet': {'no': 0, 'yes': 1},\n",
    "         'romantic': {'no': 0, 'yes': 1}}\n",
    "\n",
    "for col, mapping in mymap.items():\n",
    "    raw_data[col] = raw_data[col].map(mapping)\n",
    "\n",
    "    assert raw_data[col].max() == 1 and raw_data[col].min() == 0\n",
    "    assert len(raw_data[col]) == 395\n",
    "```"
   ]
  },
  {
   "cell_type": "code",
   "execution_count": 14,
   "metadata": {},
   "outputs": [],
   "source": [
    "# export cleaned data to directory\n",
    "# cleaned_data.to_csv('cleaned-data.csv')\n",
    "\n",
    "# assert os.path.exists('./cleaned-data.csv')"
   ]
  }
 ],
 "metadata": {
  "kernelspec": {
   "display_name": "grade_predictor",
   "language": "python",
   "name": "grade_predictor"
  },
  "language_info": {
   "codemirror_mode": {
    "name": "ipython",
    "version": 3
   },
   "file_extension": ".py",
   "mimetype": "text/x-python",
   "name": "python",
   "nbconvert_exporter": "python",
   "pygments_lexer": "ipython3",
   "version": "3.6.5"
  }
 },
 "nbformat": 4,
 "nbformat_minor": 2
}
