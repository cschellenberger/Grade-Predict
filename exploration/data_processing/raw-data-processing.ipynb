{
 "cells": [
  {
   "cell_type": "code",
   "execution_count": 1,
   "metadata": {},
   "outputs": [],
   "source": [
    "# import necessary packages\n",
    "import pandas as pd\n",
    "import os\n",
    "# from data import DummyEncoder"
   ]
  },
  {
   "cell_type": "code",
   "execution_count": 2,
   "metadata": {},
   "outputs": [
    {
     "name": "stdout",
     "output_type": "stream",
     "text": [
      "2018-12-03T19:49:53-07:00\n",
      "\n",
      "CPython 3.6.5\n",
      "IPython 7.1.1\n",
      "\n",
      "compiler   : GCC 4.2.1 (Apple Inc. build 5666) (dot 3)\n",
      "system     : Darwin\n",
      "release    : 18.2.0\n",
      "machine    : x86_64\n",
      "processor  : i386\n",
      "CPU cores  : 8\n",
      "interpreter: 64bit\n"
     ]
    }
   ],
   "source": [
    "%load_ext watermark\n",
    "%watermark"
   ]
  },
  {
   "cell_type": "code",
   "execution_count": 3,
   "metadata": {},
   "outputs": [],
   "source": [
    "# import raw data\n",
    "raw_data = pd.read_csv('../raw_data/student-mat.csv')"
   ]
  },
  {
   "cell_type": "code",
   "execution_count": 4,
   "metadata": {},
   "outputs": [
    {
     "name": "stdout",
     "output_type": "stream",
     "text": [
      "<class 'pandas.core.series.Series'> <class 'pandas.core.series.Series'>\n"
     ]
    }
   ],
   "source": [
    "# engineer the improved variable\n",
    "period1 = raw_data.G1\n",
    "period2 = raw_data.G2\n",
    "print(type(period1), type(period2))"
   ]
  },
  {
   "cell_type": "code",
   "execution_count": 5,
   "metadata": {},
   "outputs": [],
   "source": [
    "improved_list = []\n",
    "\n",
    "for n in period1 - period2:\n",
    "    if n >= 0:\n",
    "        improved_list.append(0)\n",
    "    else:\n",
    "        improved_list.append(1)\n",
    "\n",
    "raw_data['improved'] = improved_list\n",
    "\n",
    "assert raw_data['improved'].max() == 1 and raw_data['improved'].min() == 0\n",
    "assert len(raw_data['improved']) == 395"
   ]
  },
  {
   "cell_type": "code",
   "execution_count": 6,
   "metadata": {},
   "outputs": [],
   "source": [
    "# Remove missing target variable entries\n",
    "cleaned_data = raw_data[~(raw_data['G3']==0)]\n",
    "\n",
    "assert 0 not in cleaned_data['G3'].values\n",
    "assert len(cleaned_data) == (395 - len(raw_data[raw_data['G3']==0]))"
   ]
  },
  {
   "cell_type": "code",
   "execution_count": 7,
   "metadata": {},
   "outputs": [],
   "source": [
    "pd.set_option('display.max_columns', None)"
   ]
  },
  {
   "cell_type": "markdown",
   "metadata": {},
   "source": [
    "# Feature Encoding\n",
    "The following features are candidates for encoding:\n",
    "- `school`\n",
    "- `sex`\n",
    "- `address`\n",
    "- `famsize`\n",
    "- `Pstatus`\n",
    "- `Mjob`\n",
    "- `Fjob`\n",
    "- `reason`\n",
    "- `guardian`\n",
    "- `schoolsup`\n",
    "- `famsup`\n",
    "- `paid`\n",
    "- `activities`\n",
    "- `nursery`\n",
    "- `higher`\n",
    "- `internet`\n",
    "- `romantic`"
   ]
  },
  {
   "cell_type": "code",
   "execution_count": 9,
   "metadata": {},
   "outputs": [],
   "source": [
    "encoded = pd.get_dummies(cleaned_data, drop_first=True)"
   ]
  },
  {
   "cell_type": "code",
   "execution_count": 10,
   "metadata": {},
   "outputs": [],
   "source": [
    "# export cleaned data to directory\n",
    "encoded.to_csv('cleaned-data.csv')\n",
    "\n",
    "assert os.path.exists('./cleaned-data.csv')"
   ]
  },
  {
   "cell_type": "code",
   "execution_count": null,
   "metadata": {},
   "outputs": [],
   "source": []
  }
 ],
 "metadata": {
  "kernelspec": {
   "display_name": "grade_predictor",
   "language": "python",
   "name": "grade_predictor"
  },
  "language_info": {
   "codemirror_mode": {
    "name": "ipython",
    "version": 3
   },
   "file_extension": ".py",
   "mimetype": "text/x-python",
   "name": "python",
   "nbconvert_exporter": "python",
   "pygments_lexer": "ipython3",
   "version": "3.6.5"
  }
 },
 "nbformat": 4,
 "nbformat_minor": 2
}
